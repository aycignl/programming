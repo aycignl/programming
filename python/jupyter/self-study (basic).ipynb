{
 "cells": [
  {
   "cell_type": "code",
   "execution_count": 11,
   "metadata": {
    "collapsed": false
   },
   "outputs": [
    {
     "name": "stdout",
     "output_type": "stream",
     "text": [
      "0.10000000000000000555111512312578270211815834045410\n",
      "give me a number: \n",
      "10\n",
      "give me a number: \n",
      "2\n",
      "10 plus 2 is 12\n",
      "10 minus 2 is 8\n",
      "10 multiply 2 is 20\n",
      "10 divided by 2 is 5\n",
      "remainder of 10 divided by 2 is 0\n",
      "give me a Fahrenheit number:\n",
      "212\n",
      "100.000\n",
      "Enter a number: 2\n",
      "This is a positive number\n"
     ]
    }
   ],
   "source": [
    "'''\n",
    "Gonul AYCI,\n",
    "Bogazici University, Mar 2017\n",
    "'''\n",
    "#I use some examples from Harvard University CS50 course\n",
    "\n",
    "#simple calculation using format() method\n",
    "print(\"{:.50f}\".format(1.0 / 10.0))\n",
    "print(\"give me a number: \")\n",
    "x = input()\n",
    "print(\"give me a number: \")\n",
    "y = input()\n",
    "print(\"{} plus {} is {}\".format(x, y, x+y))\n",
    "print(\"{} minus {} is {}\".format(x, y, x-y))\n",
    "print(\"{} multiply {} is {}\".format(x, y, x*y))\n",
    "print(\"{} divided by {} is {}\".format(x, y, x/y))\n",
    "print(\"remainder of {} divided by {} is {}\".format(x, y, x%y))\n",
    "\n",
    "#temperature: convertion\n",
    "print(\"give me a Fahrenheit number:\")\n",
    "f = input()\n",
    "c = 5.0/9.0 * (f - 32)\n",
    "print(\"{:.3f}\".format(c))\n",
    "\n",
    "#get positive value of a given number\n",
    "def main():\n",
    "  num = int(input(\"Enter a number: \"))\n",
    "  if num >= 0:\n",
    "    print(\"This is a positive number\")\n",
    "  else:\n",
    "   print(\"This a negative number and it's positive value is: \", abs(num))\n",
    "\n",
    "main()\n"
   ]
  },
  {
   "cell_type": "code",
   "execution_count": 10,
   "metadata": {
    "collapsed": false
   },
   "outputs": [
    {
     "name": "stdout",
     "output_type": "stream",
     "text": [
      "cough\n",
      "cough\n",
      "cough\n",
      "achoo\n",
      "achoo\n",
      "achoo\n"
     ]
    }
   ],
   "source": [
    "#loop example\n",
    "def main():\n",
    "    cough(3)\n",
    "    sneeze(3)\n",
    "    \n",
    "#cough and sneeze function take a parameter\n",
    "def cough(n):\n",
    "    for i in range(n):\n",
    "        print(\"cough\")\n",
    "        \n",
    "def sneeze(n):\n",
    "    say(\"achoo\", n)\n",
    "    \n",
    "#say function takes multiple params\n",
    "def say(word, n):\n",
    "    for i in range(n):\n",
    "        print(word)\n",
    "\n",
    "if __name__ == \"__main__\":\n",
    "    main()\n"
   ]
  },
  {
   "cell_type": "code",
   "execution_count": 18,
   "metadata": {
    "collapsed": false
   },
   "outputs": [
    {
     "name": "stdout",
     "output_type": "stream",
     "text": [
      "give me a string: gnl\n",
      "3\n"
     ]
    }
   ],
   "source": [
    "#pyhton2 uses raw_input() to get an input from user \n",
    "s = raw_input(\"give me a string: \")\n",
    "print(len(s))"
   ]
  },
  {
   "cell_type": "code",
   "execution_count": 27,
   "metadata": {
    "collapsed": false
   },
   "outputs": [
    {
     "name": "stdout",
     "output_type": "stream",
     "text": [
      "A is 65\n",
      "B is 66\n",
      "C is 67\n",
      "D is 68\n",
      "E is 69\n",
      "F is 70\n",
      "G is 71\n",
      "H is 72\n",
      "I is 73\n",
      "J is 74\n",
      "K is 75\n",
      "L is 76\n",
      "M is 77\n",
      "N is 78\n",
      "O is 79\n",
      "P is 80\n",
      "Q is 81\n",
      "R is 82\n",
      "S is 83\n",
      "T is 84\n",
      "U is 85\n",
      "V is 86\n",
      "W is 87\n",
      "X is 88\n",
      "Y is 89\n",
      "Z is 90\n",
      "hello, world\n",
      "/Users/brain/anaconda/lib/python2.7/site-packages/ipykernel/__main__.py\n",
      "-f\n",
      "/Users/brain/Library/Jupyter/runtime/kernel-66195b62-1c42-4fa5-8296-36126515b00f.json\n",
      "/\n",
      "U\n",
      "s\n",
      "e\n",
      "r\n",
      "s\n",
      "/\n",
      "b\n",
      "r\n",
      "a\n",
      "i\n",
      "n\n",
      "/\n",
      "a\n",
      "n\n",
      "a\n",
      "c\n",
      "o\n",
      "n\n",
      "d\n",
      "a\n",
      "/\n",
      "l\n",
      "i\n",
      "b\n",
      "/\n",
      "p\n",
      "y\n",
      "t\n",
      "h\n",
      "o\n",
      "n\n",
      "2\n",
      ".\n",
      "7\n",
      "/\n",
      "s\n",
      "i\n",
      "t\n",
      "e\n",
      "-\n",
      "p\n",
      "a\n",
      "c\n",
      "k\n",
      "a\n",
      "g\n",
      "e\n",
      "s\n",
      "/\n",
      "i\n",
      "p\n",
      "y\n",
      "k\n",
      "e\n",
      "r\n",
      "n\n",
      "e\n",
      "l\n",
      "/\n",
      "_\n",
      "_\n",
      "m\n",
      "a\n",
      "i\n",
      "n\n",
      "_\n",
      "_\n",
      ".\n",
      "p\n",
      "y\n",
      "()\n",
      "-\n",
      "f\n",
      "()\n",
      "/\n",
      "U\n",
      "s\n",
      "e\n",
      "r\n",
      "s\n",
      "/\n",
      "b\n",
      "r\n",
      "a\n",
      "i\n",
      "n\n",
      "/\n",
      "L\n",
      "i\n",
      "b\n",
      "r\n",
      "a\n",
      "r\n",
      "y\n",
      "/\n",
      "J\n",
      "u\n",
      "p\n",
      "y\n",
      "t\n",
      "e\n",
      "r\n",
      "/\n",
      "r\n",
      "u\n",
      "n\n",
      "t\n",
      "i\n",
      "m\n",
      "e\n",
      "/\n",
      "k\n",
      "e\n",
      "r\n",
      "n\n",
      "e\n",
      "l\n",
      "-\n",
      "6\n",
      "6\n",
      "1\n",
      "9\n",
      "5\n",
      "b\n",
      "6\n",
      "2\n",
      "-\n",
      "1\n",
      "c\n",
      "4\n",
      "2\n",
      "-\n",
      "4\n",
      "f\n",
      "a\n",
      "5\n",
      "-\n",
      "8\n",
      "2\n",
      "9\n",
      "6\n",
      "-\n",
      "3\n",
      "6\n",
      "1\n",
      "2\n",
      "6\n",
      "5\n",
      "1\n",
      "5\n",
      "b\n",
      "0\n",
      "0\n",
      "f\n",
      ".\n",
      "j\n",
      "s\n",
      "o\n",
      "n\n",
      "()\n"
     ]
    }
   ],
   "source": [
    "#ascii numbers-chars\n",
    "for i in range(65, 65 + 26):\n",
    "    print(\"{} is {}\".format(chr(i), i))\n",
    "\n",
    "import sys\n",
    "\n",
    "if len(sys.argv) == 2:\n",
    "    print(\"hello, \" + sys.argv[1])\n",
    "else:\n",
    "    print(\"hello, world\")\n",
    "\n",
    "#write to a terminal: \n",
    "#python argv1.py foo bar baz\n",
    "for i in range(len(sys.argv)):\n",
    "    print(sys.argv[i])\n",
    "    \n",
    "#assign s for the first string\n",
    "#for each character in s\n",
    "for s in sys.argv:\n",
    "    for c in s:\n",
    "        print(c)\n",
    "    print()"
   ]
  },
  {
   "cell_type": "code",
   "execution_count": 28,
   "metadata": {
    "collapsed": false
   },
   "outputs": [
    {
     "name": "stdout",
     "output_type": "stream",
     "text": [
      "give me a string: cs\n",
      "give me another string: cmpe\n",
      "different\n"
     ]
    }
   ],
   "source": [
    "#compare two strings\n",
    "s = raw_input(\"give me a string: \")\n",
    "t = raw_input(\"give me another string: \")\n",
    "\n",
    "if s != None and t != None:\n",
    "    if s == t :\n",
    "        print(\"same\")\n",
    "    else:\n",
    "        print(\"different\")"
   ]
  },
  {
   "cell_type": "code",
   "execution_count": 29,
   "metadata": {
    "collapsed": false
   },
   "outputs": [
    {
     "name": "stdout",
     "output_type": "stream",
     "text": [
      "give me a string: gonul\n",
      "s: gonul\n",
      "t: Gonul\n"
     ]
    }
   ],
   "source": [
    "s = raw_input(\"give me a string: \")\n",
    "if s == None:\n",
    "    exit(1)\n",
    "    \n",
    "#give the copy of s that only difference with first element is capital\n",
    "t = s.capitalize()\n",
    "\n",
    "print(\"s: {}\".format(s))\n",
    "print(\"t: {}\".format(t))"
   ]
  },
  {
   "cell_type": "code",
   "execution_count": 31,
   "metadata": {
    "collapsed": false
   },
   "outputs": [
    {
     "name": "stdout",
     "output_type": "stream",
     "text": [
      "x is 1\n",
      "y is 2\n",
      "Swapping...\n",
      "Swapped.\n",
      "x is 2\n",
      "y is 1\n"
     ]
    }
   ],
   "source": [
    "#swap function\n",
    "x = 1\n",
    "y = 2\n",
    "\n",
    "print(\"x is {}\".format(x))\n",
    "print(\"y is {}\".format(y))\n",
    "print(\"Swapping...\")\n",
    "(x, y) = (y, x)\n",
    "print(\"Swapped.\")\n",
    "print(\"x is {}\".format(x))\n",
    "print(\"y is {}\".format(y))"
   ]
  },
  {
   "cell_type": "code",
   "execution_count": null,
   "metadata": {
    "collapsed": true
   },
   "outputs": [],
   "source": []
  }
 ],
 "metadata": {
  "kernelspec": {
   "display_name": "Python 2",
   "language": "python",
   "name": "python2"
  },
  "language_info": {
   "codemirror_mode": {
    "name": "ipython",
    "version": 2
   },
   "file_extension": ".py",
   "mimetype": "text/x-python",
   "name": "python",
   "nbconvert_exporter": "python",
   "pygments_lexer": "ipython2",
   "version": "2.7.13"
  }
 },
 "nbformat": 4,
 "nbformat_minor": 2
}
