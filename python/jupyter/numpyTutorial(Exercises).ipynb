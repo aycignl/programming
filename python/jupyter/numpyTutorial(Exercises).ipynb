{
 "cells": [
  {
   "cell_type": "code",
   "execution_count": 17,
   "metadata": {
    "collapsed": false,
    "deletable": true,
    "editable": true
   },
   "outputs": [
    {
     "name": "stdout",
     "output_type": "stream",
     "text": [
      "1.12.0\n",
      "[ 0.  0.  0.  0.  0.  0.  0.  0.  0.  0.]\n",
      "[[1 2]\n",
      " [3 4]]\n",
      "transpose of b matrix:  [[1 3]\n",
      " [2 4]]\n",
      "[ 1.  1.  0.  1.  1.  1.  1.  1.  1.  1.]\n",
      "[ 5  6  7  8  9 10 11 12 13 14 15 16 17 18 19]\n",
      "reverse:  [19 18 17 16 15 14 13 12 11 10  9  8  7  6  5]\n",
      "[[0 1 2]\n",
      " [3 4 5]\n",
      " [6 7 8]]\n",
      "nonzero:  (array([0, 1, 4, 5]),)\n",
      "identity matrix:  [[ 1.  0.  0.]\n",
      " [ 0.  1.  0.]\n",
      " [ 0.  0.  1.]]\n",
      "[[ 0.88201627  0.21179709]\n",
      " [ 0.25344864  0.50806944]]\n",
      "Max:  0.993046072455 Min:  7.33217689612e-05\n",
      "mean:  0.465324766623 variance:  0.067448169855 standart deviation:  0.25970785482\n",
      "[[ 1.  1.  1.  1.  1.  1.  1.  1.  1.  1.]\n",
      " [ 1.  0.  0.  0.  0.  0.  0.  0.  0.  1.]\n",
      " [ 1.  0.  0.  0.  0.  0.  0.  0.  0.  1.]\n",
      " [ 1.  0.  0.  0.  0.  0.  0.  0.  0.  1.]\n",
      " [ 1.  0.  0.  0.  0.  0.  0.  0.  0.  1.]\n",
      " [ 1.  0.  0.  0.  0.  0.  0.  0.  0.  1.]\n",
      " [ 1.  0.  0.  0.  0.  0.  0.  0.  0.  1.]\n",
      " [ 1.  0.  0.  0.  0.  0.  0.  0.  0.  1.]\n",
      " [ 1.  0.  0.  0.  0.  0.  0.  0.  0.  1.]\n",
      " [ 1.  1.  1.  1.  1.  1.  1.  1.  1.  1.]]\n",
      "[[1 0 0 0 0]\n",
      " [0 2 0 0 0]\n",
      " [0 0 3 0 0]\n",
      " [0 0 0 4 0]\n",
      " [0 0 0 0 5]]\n",
      "checkerboard:  [[0 1 0 1 0 1 0 1]\n",
      " [1 0 1 0 1 0 1 0]\n",
      " [0 1 0 1 0 1 0 1]\n",
      " [1 0 1 0 1 0 1 0]\n",
      " [0 1 0 1 0 1 0 1]\n",
      " [1 0 1 0 1 0 1 0]\n",
      " [0 1 0 1 0 1 0 1]\n",
      " [1 0 1 0 1 0 1 0]]\n",
      "(1, 5, 4)\n",
      "checkerboard with tile function: [[0 1 0 1 0 1 0 1]\n",
      " [1 0 1 0 1 0 1 0]\n",
      " [0 1 0 1 0 1 0 1]\n",
      " [1 0 1 0 1 0 1 0]\n",
      " [0 1 0 1 0 1 0 1]\n",
      " [1 0 1 0 1 0 1 0]\n",
      " [0 1 0 1 0 1 0 1]\n",
      " [1 0 1 0 1 0 1 0]]\n"
     ]
    }
   ],
   "source": [
    "# Name: Gonul AYCI\n",
    "# Date: Bogazici University, Mar. 2017\n",
    "\n",
    "#This document is prepared for only practicing\n",
    "#Many thanks to Nicolas P. Rougier for most of exercises.\n",
    "#https://github.com/rougier/numpy-100\n",
    "#http://www.labri.fr/perso/nrougier/teaching/numpy.100/index.html\n",
    "#Some of exercises and modifications belong to me.\n",
    "\n",
    "#Import the numpy package under the name np\n",
    "#When you write next line, you need to run this cell before using np\n",
    "import numpy as np\n",
    "\n",
    "#Print the numpy version and the configuration\n",
    "print(np.__version__)\n",
    "np.show_config\n",
    "\n",
    "#Create a null vector of size 10 and its transpoze\n",
    "a = np.zeros(10)\n",
    "print(a)\n",
    "\n",
    "b = np.array([[1, 2], [3, 4]])\n",
    "print(b)\n",
    "print(\"transpose of b matrix: \", b.transpose())\n",
    "\n",
    "#Create a unit vector of size 10 but the third value which is 0\n",
    "c = np.ones(10)\n",
    "c[2] = 0\n",
    "print(c)\n",
    "\n",
    "#Create a vector with values ranging from 5 to 19\n",
    "d = np.arange(5,20)\n",
    "print(d)\n",
    "\n",
    "#Reverse a vector (first element becomes last)\n",
    "e = np.arange(20)\n",
    "e = e[:4:-1]\n",
    "print(\"reverse: \", e)\n",
    "\n",
    "#Create a 3x3 matrix with values ranging from 0 to 8\n",
    "f = np.arange(9).reshape(3,3)\n",
    "print(f)\n",
    "\n",
    "#Find indices of non-zero elements from [1,2,0,0,4,-3]\n",
    "g = np.nonzero([1,2,0,0,4,-3])\n",
    "print(\"nonzero: \", g)\n",
    "\n",
    "#Create a 3x3 identity matrix \n",
    "h = np.eye(3)\n",
    "print(\"identity matrix: \", h)\n",
    "\n",
    "#Create a 2x2 array with random values\n",
    "i = np.random.random((2,2))\n",
    "print(i)\n",
    "\n",
    "#Create a 10x10 array with random values and find the minimum and maximum values\n",
    "j = np.random.random((10,10))\n",
    "jMax, jMin = j.max(), j.min()\n",
    "print(\"Max: \", jMax, \"Min: \", jMin)\n",
    "\n",
    "#Create a random vector of size 30 and find the mean, variance, and standart deviation values\n",
    "k = np.random.random(30)\n",
    "kMean, kVar, kStd = k.mean(), k.var(), k.std()\n",
    "print(\"mean: \", kMean, \"variance: \", kVar, \"standart deviation: \", kStd)\n",
    "\n",
    "#Create a 2d array with 1 on the border and 0 inside\n",
    "l = np.ones((10,10))\n",
    "l[1:-1,1:-1] = 0\n",
    "print(l)\n",
    "\n",
    "#Create a 5x5 matrix with values 1,2,3,4 on the diagonal\n",
    "m = np.diag(1 + np.arange(5), k = 0)\n",
    "print(m)\n",
    "\n",
    "#Create a 8x8 matrix and fill it with a checkerboard pattern\n",
    "n = np.zeros((8,8), dtype=int)\n",
    "n[1::2, ::2] = 1\n",
    "n[::2, 1::2] = 1\n",
    "print('''checkerboard: ''', n)\n",
    "\n",
    "#Consider a (6,7,8) shape array, what is the index (x,y,z) of the 100th element\n",
    "print(np.unravel_index(100, (6,7,8)))\n",
    "\n",
    "#Create a matrix which include repeated elements\n",
    "o = np.array([[3,4,5], [6,7,8]])\n",
    "np.tile(o, (2,2))\n",
    "\n",
    "#Create a checkerboard 8x8 matrix using the tile function\n",
    "p = np.tile(np.array([[0,1], [1,0]]) , (4,4))\n",
    "print('checkerboard with tile function:', p)"
   ]
  },
  {
   "cell_type": "code",
   "execution_count": 45,
   "metadata": {
    "collapsed": false,
    "deletable": true,
    "editable": true
   },
   "outputs": [
    {
     "name": "stdout",
     "output_type": "stream",
     "text": [
      "[[ 3.  3.]\n",
      " [ 3.  3.]\n",
      " [ 3.  3.]\n",
      " [ 3.  3.]\n",
      " [ 3.  3.]]\n",
      "[ 2.00798789  2.17957976  9.67759296  7.18906961  4.82367447  2.75323134\n",
      "  9.33544289  1.07846118  5.3252294   3.79725644]\n",
      "[ 2.  2.  9.  7.  4.  2.  9.  1.  5.  3.]\n",
      "[  3.   3.  10.   8.   5.   3.  10.   2.   6.   4.]\n",
      "[2 2 9 7 4 2 9 1 5 3]\n",
      "[ 2.  2.  9.  7.  4.  2.  9.  1.  5.  3.]\n",
      "t:  [ 0.54420757  0.62529723  0.20456799  0.19020287  0.51815934]\n",
      "sorted t:  [ 0.19020287  0.20456799  0.51815934  0.54420757  0.62529723]\n",
      "False\n",
      "[ 0.90727335  0.04159988  0.51020876  0.80082746  0.          0.42125832\n",
      "  0.74207872  0.45441675  0.46600381  0.95780564]\n"
     ]
    },
    {
     "ename": "ValueError",
     "evalue": "assignment destination is read-only",
     "output_type": "error",
     "traceback": [
      "\u001b[0;31m---------------------------------------------------------------------------\u001b[0m",
      "\u001b[0;31mValueError\u001b[0m                                Traceback (most recent call last)",
      "\u001b[0;32m<ipython-input-45-abed940dc646>\u001b[0m in \u001b[0;36m<module>\u001b[0;34m()\u001b[0m\n\u001b[1;32m     35\u001b[0m \u001b[0mu\u001b[0m \u001b[0;34m=\u001b[0m \u001b[0mnp\u001b[0m\u001b[0;34m.\u001b[0m\u001b[0mzeros\u001b[0m\u001b[0;34m(\u001b[0m\u001b[0;36m10\u001b[0m\u001b[0;34m)\u001b[0m\u001b[0;34m\u001b[0m\u001b[0m\n\u001b[1;32m     36\u001b[0m \u001b[0mu\u001b[0m\u001b[0;34m.\u001b[0m\u001b[0mflags\u001b[0m\u001b[0;34m.\u001b[0m\u001b[0mwriteable\u001b[0m \u001b[0;34m=\u001b[0m \u001b[0;32mFalse\u001b[0m \u001b[0;31m#to have 6 flags options\u001b[0m\u001b[0;34m\u001b[0m\u001b[0m\n\u001b[0;32m---> 37\u001b[0;31m \u001b[0mu\u001b[0m\u001b[0;34m[\u001b[0m\u001b[0;36m0\u001b[0m\u001b[0;34m]\u001b[0m \u001b[0;34m=\u001b[0m \u001b[0;36m1\u001b[0m\u001b[0;34m\u001b[0m\u001b[0m\n\u001b[0m\u001b[1;32m     38\u001b[0m \u001b[0;34m\u001b[0m\u001b[0m\n",
      "\u001b[0;31mValueError\u001b[0m: assignment destination is read-only"
     ]
    }
   ],
   "source": [
    "#Create a custom dtype that describes a color as four unisgned bytes (RGBA)\n",
    "color = np.dtype([(\"r\", np.ubyte, 1), (\"g\", np.ubyte, 1), (\"b\", np.ubyte, 1), (\"a\", np.ubyte, 1)])\n",
    "\n",
    "#Multiply a 5x3 matrix by a 3x2 matrix (real matrix product) \n",
    "r = np.dot(np.ones((5,3)), np.ones((3,2)))\n",
    "print(r)\n",
    "\n",
    "#Extract the integer part of a random array using different methods \n",
    "s = np.random.uniform(0,10,10)\n",
    "print(s)\n",
    "print(np.floor(s))\n",
    "print(np.ceil(s))\n",
    "print(s.astype(int))\n",
    "print(np.trunc(s)) #truncate a matrix\n",
    "\n",
    "#Sort an array\n",
    "#Python use Timsort algorithm\n",
    "t = np.random.random(5)\n",
    "print(\"t: \", t)\n",
    "t.sort()\n",
    "print(\"sorted t: \", t)\n",
    "\n",
    "#Consider two random array A anb B, check if they are equal\n",
    "A = np.random.randint(0,3,6,\"int\")\n",
    "B = np.random.randint(0,3,6)\n",
    "equal = np.allclose(A,B)\n",
    "print(equal)\n",
    "\n",
    "#Create random vector of size 10 and replace the maximum value by 0 \n",
    "v = np.random.random(10)\n",
    "v[v.argmax()] = 0\n",
    "print(v)\n",
    "\n",
    "#Make an array read-only\n",
    "u = np.zeros(10)\n",
    "u.flags.writeable = False #to have 6 flags options\n",
    "u[0] = 1\n",
    "\n"
   ]
  },
  {
   "cell_type": "code",
   "execution_count": 49,
   "metadata": {
    "collapsed": false
   },
   "outputs": [
    {
     "name": "stdout",
     "output_type": "stream",
     "text": [
      "[[-0.56365082 -0.03797013 -0.72813386  0.25648648]\n",
      " [-0.16088054 -0.19100488  0.45301187 -0.06513977]\n",
      " [ 0.31811661 -0.49683994 -0.4143367  -0.68314462]\n",
      " [-0.73129903 -0.29938966  0.2957504  -0.36873627]\n",
      " [-0.14289418  0.7909433  -0.07387921 -0.57211755]]\n",
      "[[-2.54806081  0.33146086 -1.44062148  0.45976334]\n",
      " [ 0.         -1.69420861 -0.78457541 -0.8329533 ]\n",
      " [ 0.          0.         -1.29720041 -0.33625447]\n",
      " [ 0.          0.          0.          0.44805897]]\n"
     ]
    },
    {
     "data": {
      "text/plain": [
       "True"
      ]
     },
     "execution_count": 49,
     "metadata": {},
     "output_type": "execute_result"
    }
   ],
   "source": [
    "#Make QR factorization\n",
    "M = np.random.randn(5,4)\n",
    "q, r = np.linalg.qr(M)\n",
    "print(q)\n",
    "print(r)\n",
    "#check M=qr or not\n",
    "np.allclose(M, np.dot(q,r))"
   ]
  },
  {
   "cell_type": "code",
   "execution_count": 55,
   "metadata": {
    "collapsed": false
   },
   "outputs": [
    {
     "name": "stdout",
     "output_type": "stream",
     "text": [
      "[[1 2 3]\n",
      " [3 1 2]\n",
      " [3 2 1]]\n"
     ]
    },
    {
     "data": {
      "text/plain": [
       "array([[-0.25      ,  0.33333333,  0.08333333],\n",
       "       [ 0.25      , -0.66666667,  0.58333333],\n",
       "       [ 0.25      ,  0.33333333, -0.41666667]])"
      ]
     },
     "execution_count": 55,
     "metadata": {},
     "output_type": "execute_result"
    }
   ],
   "source": [
    "#inverse of a matrix\n",
    "N = np.array([[1,2,3], [3,1,2], [3,2,1]])\n",
    "print(N)\n",
    "np.linalg.inv(N)"
   ]
  },
  {
   "cell_type": "code",
   "execution_count": 56,
   "metadata": {
    "collapsed": true
   },
   "outputs": [],
   "source": [
    "#N.x = y\n",
    "y = np.array([1,0,2])\n",
    "q1,r1 = np.linalg.qr(N)\n",
    "z = np.dot(q1.T, y)"
   ]
  }
 ],
 "metadata": {
  "kernelspec": {
   "display_name": "Python 3",
   "language": "python",
   "name": "python3"
  },
  "language_info": {
   "codemirror_mode": {
    "name": "ipython",
    "version": 3
   },
   "file_extension": ".py",
   "mimetype": "text/x-python",
   "name": "python",
   "nbconvert_exporter": "python",
   "pygments_lexer": "ipython3",
   "version": "3.6.0"
  }
 },
 "nbformat": 4,
 "nbformat_minor": 2
}
