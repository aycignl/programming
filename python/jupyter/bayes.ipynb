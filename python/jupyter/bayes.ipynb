{
 "cells": [
  {
   "cell_type": "code",
   "execution_count": 1,
   "metadata": {
    "collapsed": false
   },
   "outputs": [
    {
     "name": "stdout",
     "output_type": "stream",
     "text": [
      "posterior probability:  0.5\n"
     ]
    }
   ],
   "source": [
    "# Name: Gonul AYCI\n",
    "# Date: Bogazici University, Feb. 2017\n",
    "# Description: Bayesian Network\n",
    "\n",
    "def bn(Atotal, Btotal, AB):\n",
    "\n",
    "  total = Atotal + Btotal\n",
    "  P_A = (Atotal*1.0)/total\n",
    "  P_B = ((Btotal)*1.0)/total\n",
    "  P_AB = AB*1.0/Btotal\n",
    "  P_BA = (P_B*P_AB)/(P_A*1.0)\n",
    "\n",
    "  '''\n",
    "  Bayes Theorem\n",
    "  p(lamda/D) = p(D, lamda)/p(D) \n",
    "  \t\t\t = (p(D/lamda)*p(lamda))/p(D)\n",
    "\n",
    "  params: D: model, and lamda\n",
    "  p(lamda): prior probability\n",
    "  p(D/lamda): likelihood\n",
    "  p(D): prior probability\n",
    "  \n",
    "  '''\n",
    "\n",
    "  print \"posterior probability: \", P_BA\n",
    "  \n",
    "bn(10, 10, 5)"
   ]
  },
  {
   "cell_type": "code",
   "execution_count": null,
   "metadata": {
    "collapsed": true
   },
   "outputs": [],
   "source": []
  }
 ],
 "metadata": {
  "kernelspec": {
   "display_name": "Python 2",
   "language": "python",
   "name": "python2"
  },
  "language_info": {
   "codemirror_mode": {
    "name": "ipython",
    "version": 2
   },
   "file_extension": ".py",
   "mimetype": "text/x-python",
   "name": "python",
   "nbconvert_exporter": "python",
   "pygments_lexer": "ipython2",
   "version": "2.7.13"
  }
 },
 "nbformat": 4,
 "nbformat_minor": 2
}
