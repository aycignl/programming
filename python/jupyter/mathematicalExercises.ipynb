{
 "cells": [
  {
   "cell_type": "code",
   "execution_count": 17,
   "metadata": {
    "collapsed": false
   },
   "outputs": [
    {
     "name": "stdout",
     "output_type": "stream",
     "text": [
      "[[[ 1.]\n",
      "  [ 1.]\n",
      "  [ 1.]\n",
      "  [ 1.]\n",
      "  [ 1.]]\n",
      "\n",
      " [[ 1.]\n",
      "  [ 1.]\n",
      "  [ 1.]\n",
      "  [ 1.]\n",
      "  [ 1.]]\n",
      "\n",
      " [[ 1.]\n",
      "  [ 1.]\n",
      "  [ 1.]\n",
      "  [ 1.]\n",
      "  [ 1.]]\n",
      "\n",
      " [[ 1.]\n",
      "  [ 1.]\n",
      "  [ 1.]\n",
      "  [ 1.]\n",
      "  [ 1.]]\n",
      "\n",
      " [[ 1.]\n",
      "  [ 1.]\n",
      "  [ 1.]\n",
      "  [ 1.]\n",
      "  [ 1.]]]\n"
     ]
    }
   ],
   "source": [
    "#convert a matrix 2Dto3D\n",
    "B = np.ones((5,5))\n",
    "print(B[:,:,None])"
   ]
  },
  {
   "cell_type": "code",
   "execution_count": 25,
   "metadata": {
    "collapsed": false
   },
   "outputs": [
    {
     "name": "stdout",
     "output_type": "stream",
     "text": [
      "[[20 21 22 23 24]\n",
      " [ 0  1  2  3  4]\n",
      " [10 11 12 13 14]\n",
      " [15 16 17 18 19]\n",
      " [20 21 22 23 24]]\n"
     ]
    }
   ],
   "source": [
    "#reshape given matrix\n",
    "A = np.arange(25).reshape(5,5)\n",
    "A[[0,1]] = A[[4,0]]\n",
    "print(A)"
   ]
  },
  {
   "cell_type": "code",
   "execution_count": 70,
   "metadata": {
    "collapsed": false
   },
   "outputs": [
    {
     "data": {
      "text/plain": [
       "3"
      ]
     },
     "execution_count": 70,
     "metadata": {},
     "output_type": "execute_result"
    }
   ],
   "source": [
    "#compute the rank of a matrix \n",
    "np.linalg.matrix_rank(np.eye(3))"
   ]
  },
  {
   "cell_type": "code",
   "execution_count": 41,
   "metadata": {
    "collapsed": false
   },
   "outputs": [
    {
     "name": "stdout",
     "output_type": "stream",
     "text": [
      "('A: ', array([[ 0.73655795,  0.4681471 ,  0.17693048,  0.59930799,  0.67516164,\n",
      "         0.79380152,  0.04453619,  0.36939126,  0.77942014,  0.19424623],\n",
      "       [ 0.94860373,  0.10349495,  0.76784369,  0.69847983,  0.41327949,\n",
      "         0.00606052,  0.16776741,  0.53754909,  0.72342454,  0.55793002],\n",
      "       [ 0.36772012,  0.43301448,  0.72639425,  0.41143061,  0.79216304,\n",
      "         0.6416648 ,  0.73150139,  0.73992587,  0.04132919,  0.35267834],\n",
      "       [ 0.56324653,  0.63311003,  0.5447252 ,  0.3302595 ,  0.87619416,\n",
      "         0.20537085,  0.03856296,  0.70725536,  0.21296997,  0.78563833],\n",
      "       [ 0.07431265,  0.72695193,  0.19176885,  0.69515779,  0.2890577 ,\n",
      "         0.31978169,  0.07502654,  0.75573987,  0.36302052,  0.88566457],\n",
      "       [ 0.13374274,  0.31804798,  0.80141221,  0.97943873,  0.98806396,\n",
      "         0.98514285,  0.49443641,  0.66369551,  0.21100643,  0.42701035],\n",
      "       [ 0.25951662,  0.24934146,  0.62431412,  0.2652848 ,  0.84462786,\n",
      "         0.58661375,  0.85266359,  0.82380088,  0.55960829,  0.50465424],\n",
      "       [ 0.82736422,  0.93762826,  0.34304458,  0.64912381,  0.26204308,\n",
      "         0.42660757,  0.82141873,  0.22115531,  0.3948811 ,  0.55488395],\n",
      "       [ 0.78108989,  0.43764568,  0.67693453,  0.50068504,  0.48448539,\n",
      "         0.23468872,  0.41084084,  0.88106026,  0.97503658,  0.60243382],\n",
      "       [ 0.5262468 ,  0.0239653 ,  0.7777951 ,  0.50527603,  0.07723566,\n",
      "         0.36890268,  0.31332542,  0.24041298,  0.78806581,  0.59206789]]))\n",
      "('U: ', array([[-0.29264337, -0.10825391,  0.02192512, -0.3639577 , -0.70731498,\n",
      "         0.38046028,  0.24768224, -0.08589299, -0.07500098,  0.22427948],\n",
      "       [-0.30961799, -0.47270958, -0.22189584,  0.21484325, -0.02161423,\n",
      "         0.03731914, -0.43955424,  0.40275475,  0.320832  ,  0.35365886],\n",
      "       [-0.31815864,  0.41492305, -0.12896698, -0.04233145,  0.28318472,\n",
      "         0.15575418, -0.18670632,  0.13019889, -0.6222402 ,  0.40588507],\n",
      "       [-0.30664012,  0.03526589,  0.36309532,  0.43315825,  0.02579102,\n",
      "         0.43357244, -0.32164327, -0.50431031,  0.06563675, -0.18580141],\n",
      "       [-0.26861919,  0.01640978,  0.6482007 ,  0.26768418, -0.09524984,\n",
      "        -0.49014945,  0.28091366,  0.1433478 , -0.03347249,  0.2930102 ],\n",
      "       [-0.37017384,  0.5143292 , -0.18833388, -0.02180421, -0.37444851,\n",
      "        -0.34791912, -0.29154031,  0.14662293,  0.16695782, -0.40848914],\n",
      "       [-0.33793737,  0.27618224, -0.29901524,  0.08960677,  0.31351214,\n",
      "         0.12593441,  0.53322004, -0.12736948,  0.51582141,  0.1769592 ],\n",
      "       [-0.31449843, -0.12761083,  0.35204355, -0.72295705,  0.3926686 ,\n",
      "        -0.03278006, -0.17452038, -0.00844153,  0.18559738, -0.13403914],\n",
      "       [-0.36739971, -0.33548038, -0.08446989,  0.16794829,  0.12826068,\n",
      "         0.13586013,  0.35822144,  0.34207563, -0.34217565, -0.56550622],\n",
      "       [-0.25683665, -0.34858267, -0.35453785, -0.0304304 ,  0.0128871 ,\n",
      "        -0.49490065, -0.01096009, -0.61949456, -0.23098273,  0.05968735]]))\n",
      "('S: ', array([ 5.21844378,  1.47116953,  1.09884278,  0.99567148,  0.91349188,\n",
      "        0.77248049,  0.66244614,  0.34890068,  0.205452  ,  0.09308191]))\n",
      "('V: ', array([[-0.31397627, -0.26062272, -0.34553816, -0.3412195 , -0.35553362,\n",
      "        -0.28078397, -0.24731789, -0.3657996 , -0.3027894 , -0.32521782],\n",
      "       [-0.52005614,  0.04890006, -0.01070702, -0.03480498,  0.41765633,\n",
      "         0.40571015,  0.24463821,  0.14378783, -0.53348786, -0.14715552],\n",
      "       [-0.0483751 ,  0.71230385, -0.44399014,  0.10821246, -0.08031614,\n",
      "        -0.13306194, -0.24812324,  0.07911744, -0.24202159,  0.36178802],\n",
      "       [-0.27982668, -0.28858394,  0.23862358, -0.15516958,  0.21105981,\n",
      "        -0.39104974, -0.44503158,  0.50066178, -0.04091881,  0.33097085],\n",
      "       [ 0.03637258,  0.13141101,  0.20464088, -0.37016287, -0.22576783,\n",
      "        -0.42436653,  0.68673668,  0.10464669, -0.2163214 ,  0.20517926],\n",
      "       [ 0.49891019,  0.13619741, -0.19821891, -0.50493419,  0.53787784,\n",
      "        -0.12824185, -0.09544994,  0.10145307, -0.03760919, -0.33423526],\n",
      "       [-0.35390587,  0.03516497, -0.41858979, -0.34705121, -0.1112091 ,\n",
      "         0.19485296,  0.18156534,  0.33516886,  0.61805667, -0.01479123],\n",
      "       [ 0.04019366, -0.0441537 , -0.21145147,  0.51332486, -0.10282594,\n",
      "        -0.34982151,  0.15386974,  0.50369937, -0.06851824, -0.52267468],\n",
      "       [-0.11828427, -0.26124488, -0.39600867,  0.26455707,  0.49905723,\n",
      "        -0.35705452,  0.27844934, -0.36381933,  0.15217127,  0.28521212],\n",
      "       [ 0.39903256, -0.48142862, -0.41048709, -0.02557063, -0.18941932,\n",
      "         0.31870148,  0.06688716,  0.26255388, -0.32466321,  0.35154097]]))\n"
     ]
    }
   ],
   "source": [
    "#singular value decomposition (svd)\n",
    "A = np.random.uniform(0, 1, (10, 10))\n",
    "print(\"A: \", A)\n",
    "U, S, V = np.linalg.svd(A)\n",
    "print(\"U: \", U)\n",
    "print(\"S: \", S)\n",
    "print(\"V: \", V)"
   ]
  },
  {
   "cell_type": "code",
   "execution_count": 46,
   "metadata": {
    "collapsed": false
   },
   "outputs": [
    {
     "name": "stdout",
     "output_type": "stream",
     "text": [
      "('A: ', array([[ 0.68720536,  0.38112629,  0.1587699 ,  0.68940361,  0.65935596,\n",
      "         0.89060681,  0.39758638,  0.03922142,  0.15476079,  0.04668527],\n",
      "       [ 0.84460315,  0.23017371,  0.46284491,  0.22726943,  0.31417634,\n",
      "         0.70707872,  0.61864418,  0.73000649,  0.85653635,  0.81988555],\n",
      "       [ 0.04464876,  0.1739488 ,  0.46714857,  0.94667179,  0.16887441,\n",
      "         0.82071329,  0.16166356,  0.70719095,  0.04751358,  0.07307259],\n",
      "       [ 0.07901927,  0.92509211,  0.14084202,  0.61628249,  0.84079076,\n",
      "         0.67606173,  0.66166137,  0.84645427,  0.26756786,  0.18046361],\n",
      "       [ 0.67997578,  0.88313097,  0.80113593,  0.10074678,  0.08160054,\n",
      "         0.94084758,  0.97737399,  0.2253518 ,  0.0504833 ,  0.15510345],\n",
      "       [ 0.98651313,  0.7188449 ,  0.83009622,  0.1907018 ,  0.07300056,\n",
      "         0.72243005,  0.8532045 ,  0.34760555,  0.61899824,  0.75794898],\n",
      "       [ 0.01898303,  0.68536131,  0.28096413,  0.38348236,  0.4777759 ,\n",
      "         0.88200345,  0.50179064,  0.2352521 ,  0.70543535,  0.21643953],\n",
      "       [ 0.44376035,  0.79350224,  0.19508185,  0.58914186,  0.4778557 ,\n",
      "         0.0269162 ,  0.28977032,  0.95550173,  0.14383223,  0.06197945],\n",
      "       [ 0.36855014,  0.10474345,  0.01876275,  0.110778  ,  0.260541  ,\n",
      "         0.60151003,  0.51753261,  0.82898921,  0.49303268,  0.98965784],\n",
      "       [ 0.44983287,  0.67752581,  0.63708638,  0.03874652,  0.52107794,\n",
      "         0.16547082,  0.89510286,  0.21711864,  0.04632662,  0.11310096]]))\n",
      "('Q: ', array([[-0.38628501, -0.1264663 ,  0.40203589, -0.40213161,  0.17192944,\n",
      "         0.11124122, -0.3737081 ,  0.56251893,  0.07452014, -0.08873894],\n",
      "       [-0.47475988, -0.32886314, -0.00433769, -0.08806968,  0.29165502,\n",
      "         0.03480008, -0.14538613, -0.65748205,  0.27926821,  0.20246681],\n",
      "       [-0.02509752,  0.10038348, -0.56075346, -0.78992117, -0.06525923,\n",
      "        -0.04046757,  0.20920307,  0.00117956,  0.02208778, -0.02686634],\n",
      "       [-0.04441752,  0.6269764 ,  0.28793707, -0.10784467,  0.18894942,\n",
      "         0.10035861,  0.21524283, -0.01082456,  0.0421832 ,  0.64528261],\n",
      "       [-0.38222119,  0.24321689, -0.28924563,  0.29563901, -0.33203795,\n",
      "         0.33640077,  0.06411572,  0.19441042,  0.59088983, -0.0959966 ],\n",
      "       [-0.5545289 , -0.05654326, -0.20827865,  0.15138287, -0.32764494,\n",
      "        -0.04499179, -0.03147825,  0.08367285, -0.64825968,  0.2922254 ],\n",
      "       [-0.01067055,  0.487751  , -0.06683618, -0.03411635,  0.13282202,\n",
      "         0.4430552 , -0.43217399, -0.31056773, -0.3166092 , -0.39868089],\n",
      "       [-0.24944213,  0.31680801,  0.38611842, -0.13279546, -0.40008241,\n",
      "        -0.55895314,  0.06725169, -0.25864821,  0.07847475, -0.34729629],\n",
      "       [-0.20716572, -0.14036848,  0.26389445, -0.0295712 ,  0.14285771,\n",
      "         0.3901132 ,  0.73577844, -0.04288678, -0.19447242, -0.33650999],\n",
      "       [-0.25285555,  0.22881391, -0.3012612 ,  0.25482496,  0.65551554,\n",
      "        -0.44564594,  0.10649392,  0.20293891, -0.02404439, -0.21589345]]))\n",
      "('R: ', array([[-1.77901121, -1.43638972, -1.28221172, -0.7533902 , -0.82714028,\n",
      "        -1.67314572, -1.73861747, -1.16345659, -0.99931486, -1.14811191],\n",
      "       [ 0.        ,  1.37372194,  0.45280495,  0.70022311,  0.84020211,\n",
      "         0.74123271,  0.83553193,  0.74259019,  0.1795892 , -0.14801918],\n",
      "       [ 0.        ,  0.        , -0.69462631,  0.07332949,  0.43666375,\n",
      "        -0.27284026, -0.25811939,  0.22875652,  0.08991695,  0.0600293 ],\n",
      "       [ 0.        ,  0.        ,  0.        , -1.13757238, -0.43639211,\n",
      "        -0.76339339,  0.1618775 , -0.71482918, -0.14136781, -0.02362832],\n",
      "       [ 0.        ,  0.        ,  0.        ,  0.        ,  0.55289985,\n",
      "         0.18520911,  0.37058878,  0.05444251,  0.24125708,  0.1961125 ],\n",
      "       [ 0.        ,  0.        ,  0.        ,  0.        ,  0.        ,\n",
      "         0.97896026,  0.27937057, -0.05694232,  0.46493067,  0.4638815 ],\n",
      "       [ 0.        ,  0.        ,  0.        ,  0.        ,  0.        ,\n",
      "         0.        ,  0.25226153,  0.8085196 , -0.05858156,  0.55441167],\n",
      "       [ 0.        ,  0.        ,  0.        ,  0.        ,  0.        ,\n",
      "         0.        ,  0.        , -0.70502719, -0.68536434, -0.5238331 ],\n",
      "       [ 0.        ,  0.        ,  0.        ,  0.        ,  0.        ,\n",
      "         0.        ,  0.        ,  0.        , -0.41742431, -0.41686873],\n",
      "       [ 0.        ,  0.        ,  0.        ,  0.        ,  0.        ,\n",
      "         0.        ,  0.        ,  0.        ,  0.        ,  0.01768314]]))\n"
     ]
    }
   ],
   "source": [
    "#compute the qr factorization of a matrix\n",
    "A = np.random.uniform(0,1,(10,10))\n",
    "Q, R = np.linalg.qr(A)\n",
    "np.allclose(A, np.dot(Q, R))#check A does equal to QR\n",
    "print(\"A: \", A)\n",
    "print(\"Q: \", Q)\n",
    "print(\"R: \", R)"
   ]
  },
  {
   "cell_type": "code",
   "execution_count": 69,
   "metadata": {
    "collapsed": false
   },
   "outputs": [
    {
     "data": {
      "text/plain": [
       "4.1884686748839997"
      ]
     },
     "execution_count": 69,
     "metadata": {},
     "output_type": "execute_result"
    }
   ],
   "source": [
    "#determinant of a matrix\n",
    "A = np.random.uniform(1,5,(3,3))\n",
    "np.linalg.det(A)"
   ]
  },
  {
   "cell_type": "code",
   "execution_count": 83,
   "metadata": {
    "collapsed": false
   },
   "outputs": [
    {
     "data": {
      "image/png": "[encoded data removed]",
      "text/plain": [
       "<matplotlib.figure.Figure at 0x1162218d0>"
      ]
     },
     "metadata": {},
     "output_type": "display_data"
    }
   ],
   "source": [
    "#a basic linear regression example \n",
    "import numpy as np\n",
    "import matplotlib.pylab as plt\n",
    "\n",
    "x_i = np.arange(0,10)\n",
    "A = np.array([x_i, np.ones(10)])\n",
    "y_i = x_i**2\n",
    "w = np.linalg.lstsq(A.T, y_i)[0]\n",
    "\n",
    "lin_func = w[0]*x_i + w[1]\n",
    "plt.plot(x_i, lin_func, 'b-', x_i, y_i, 'ro')\n",
    "plt.xlabel('x-values')\n",
    "plt.ylabel('y-values')\n",
    "plt.show()"
   ]
  },
  {
   "cell_type": "code",
   "execution_count": null,
   "metadata": {
    "collapsed": true
   },
   "outputs": [],
   "source": []
  }
 ],
 "metadata": {
  "kernelspec": {
   "display_name": "Python 2",
   "language": "python",
   "name": "python2"
  },
  "language_info": {
   "codemirror_mode": {
    "name": "ipython",
    "version": 2
   },
   "file_extension": ".py",
   "mimetype": "text/x-python",
   "name": "python",
   "nbconvert_exporter": "python",
   "pygments_lexer": "ipython2",
   "version": "2.7.13"
  }
 },
 "nbformat": 4,
 "nbformat_minor": 2
}
