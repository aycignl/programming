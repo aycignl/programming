{
 "cells": [
  {
   "cell_type": "code",
   "execution_count": 2,
   "metadata": {
    "collapsed": false,
    "deletable": true,
    "editable": true
   },
   "outputs": [
    {
     "name": "stdout",
     "output_type": "stream",
     "text": [
      "sys.version_info(major=2, minor=7, micro=13, releaselevel='final', serial=0)\n"
     ]
    }
   ],
   "source": [
    "# Name: Gonul AYCI\n",
    "# Date: Bogazici University, May. 2017\n",
    "# Description: https://projecteuler.net/archives\n",
    "\n",
    "import sys\n",
    "print(sys.version_info)"
   ]
  },
  {
   "cell_type": "code",
   "execution_count": 66,
   "metadata": {
    "collapsed": false,
    "deletable": true,
    "editable": true
   },
   "outputs": [
    {
     "name": "stdout",
     "output_type": "stream",
     "text": [
      "871198282\n"
     ]
    }
   ],
   "source": [
    "#22. Names scores\n",
    "\n",
    "# to sort it into alphabetical order\n",
    "file = open('names.txt', 'r')\n",
    "names = file.read().replace('\"', '')\n",
    "name_list = sorted(names.split(','))\n",
    "\n",
    "# to work out the alphabetical value for each name, \n",
    "# multiply this value by its alphabetical position in the list to obtain a name score.\n",
    "alphabet_dict = {'A':1,'B':2,'C':3,'D':4,'E':5,'F':6,'G':7,'H':8,'I':9,'J':10,\n",
    "                 'K':11,'L':12,'M':13,'N':14,'O':15,'P':16,'Q':17,'R':18,\n",
    "                 'S':19,'T':20,'U':21,'V':22,'W':23,'X':24,'Y':25,'Z':26}\n",
    "\n",
    "enum_name_list = list(enumerate(name_list))\n",
    "\n",
    "total = 0\n",
    "\n",
    "for name in enum_name_list:\n",
    "    temp = 0\n",
    "    for word in name[1]:        \n",
    "        temp += alphabet_dict[word]\n",
    "    total += temp * (name[0] + 1)\n",
    "    \n",
    "print total"
   ]
  },
  {
   "cell_type": "code",
   "execution_count": null,
   "metadata": {
    "collapsed": true
   },
   "outputs": [],
   "source": [
    "#23. Non-abundant sums\n"
   ]
  },
  {
   "cell_type": "code",
   "execution_count": 84,
   "metadata": {
    "collapsed": false
   },
   "outputs": [
    {
     "name": "stdout",
     "output_type": "stream",
     "text": [
      "2783915460\n"
     ]
    }
   ],
   "source": [
    "#24. Lexicographic permutations\n",
    "import itertools\n",
    "\n",
    "print map(''.join, itertools.permutations('0123456789'))[10**6 - 1]"
   ]
  },
  {
   "cell_type": "code",
   "execution_count": 92,
   "metadata": {
    "collapsed": false
   },
   "outputs": [
    {
     "name": "stdout",
     "output_type": "stream",
     "text": [
      "4782\n"
     ]
    }
   ],
   "source": [
    "#25. 1000-digit Fibonacci number\n",
    "\n",
    "fib_1, fib_2 = 1, 1\n",
    "\n",
    "fib = 2\n",
    "upper = 1000\n",
    "\n",
    "while len(str(fib_2)) < upper:\n",
    "    fib_1, fib_2 = fib_2, (fib_1 + fib_2)\n",
    "    fib += 1\n",
    "    \n",
    "print fib"
   ]
  },
  {
   "cell_type": "code",
   "execution_count": 91,
   "metadata": {
    "collapsed": false
   },
   "outputs": [],
   "source": [
    "#26. Reciprocal cycles\n"
   ]
  }
 ],
 "metadata": {
  "kernelspec": {
   "display_name": "Python 2",
   "language": "python",
   "name": "python2"
  },
  "language_info": {
   "codemirror_mode": {
    "name": "ipython",
    "version": 2
   },
   "file_extension": ".py",
   "mimetype": "text/x-python",
   "name": "python",
   "nbconvert_exporter": "python",
   "pygments_lexer": "ipython2",
   "version": "2.7.13"
  }
 },
 "nbformat": 4,
 "nbformat_minor": 2
}
