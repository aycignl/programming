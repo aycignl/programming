{
 "cells": [
  {
   "cell_type": "code",
   "execution_count": 6,
   "metadata": {
    "collapsed": false
   },
   "outputs": [
    {
     "name": "stdout",
     "output_type": "stream",
     "text": [
      "insertionSort = [1, 3, 5, 5, 9, 27, 38, 91]\n",
      "[1, 3, 5, 5, 9, 27, 38, 91]\n",
      "[1, 3, 5, 5, 9, 27, 38, 91]\n",
      "[1, 3, 5, 5, 9, 27, 38, 91]\n"
     ]
    }
   ],
   "source": [
    "# Name: Gonul AYCI\n",
    "# Date: Bogazici University, Feb. 2017\n",
    "# Description: Implementation of several Sorting Algorithms\n",
    "\n",
    "\n",
    "# insertion sort\n",
    "def insertionSort(arr):\n",
    "\tfor i in range(1, len(arr)):\n",
    "\n",
    "\t\tcurrValue = arr[i]\n",
    "\t\tposition = i\n",
    "\n",
    "\t\twhile position > 0 and arr[position - 1] > currValue:\n",
    "\t\t\tarr[position] = arr[position - 1]\n",
    "\t\t\tposition = position - 1\n",
    "\n",
    "\t\tarr[position] = currValue\n",
    "\treturn arr\n",
    "\n",
    "print \"insertionSort =\", insertionSort([5, 5, 1, 27, 91, 3, 38, 9])\n",
    "\n",
    "# selection sort\n",
    "def selectionSort(arr):\n",
    "\tfor i in range(len(arr)):\n",
    "\t\tmin = i\n",
    "\t\tfor j in range(i+1, len(arr)):\n",
    "\t\t\tif arr[j] < arr[min]:\n",
    "\t\t\t\tmin = j\n",
    "\t\ttemp = arr[min]\n",
    "\t\tarr[min] = arr[i]\n",
    "\t\tarr[i] = temp\n",
    "\treturn arr\t\t\n",
    "\n",
    "print \"selectionSort =\", selectionSort([5, 5, 1, 27, 91, 3, 38, 9])\n",
    "\n",
    "# bubble sort\n",
    "def bubbleSort(arr):\n",
    "    for i in range(len(arr)):\n",
    "        for j in range(len(arr)-1, i, -1):\n",
    "            if (arr[j] < arr[j-1]):\n",
    "                temp = arr[j]\n",
    "                arr[j] = arr[j-1]\n",
    "                arr[j-1] = temp\n",
    "    return arr\n",
    "\n",
    "print \"selectionSort =\", bubbleSort([5, 5, 1, 27, 91, 3, 38, 9])\n",
    "\n",
    "# quick sort \n",
    "def quickSort(arr):\n",
    "\n",
    "    if len(arr) <= 1:\n",
    "        return arr\n",
    "\n",
    "    pivot = arr[len(arr) / 2]\n",
    "    left = [x for x in arr if x < pivot]\n",
    "    middle = [x for x in arr if x == pivot]\n",
    "    right = [x for x in arr if x > pivot]\n",
    "    return quickSort(left) + middle + quickSort(right)\n",
    "    \n",
    "print quickSort([5, 5, 1, 27, 91, 3, 38, 9])\n",
    "\n",
    "\n"
   ]
  },
  {
   "cell_type": "code",
   "execution_count": null,
   "metadata": {
    "collapsed": true
   },
   "outputs": [],
   "source": []
  }
 ],
 "metadata": {
  "kernelspec": {
   "display_name": "Python 2",
   "language": "python",
   "name": "python2"
  },
  "language_info": {
   "codemirror_mode": {
    "name": "ipython",
    "version": 2
   },
   "file_extension": ".py",
   "mimetype": "text/x-python",
   "name": "python",
   "nbconvert_exporter": "python",
   "pygments_lexer": "ipython2",
   "version": "2.7.13"
  }
 },
 "nbformat": 4,
 "nbformat_minor": 2
}
