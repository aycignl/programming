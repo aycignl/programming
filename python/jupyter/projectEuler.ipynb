{
 "cells": [
  {
   "cell_type": "code",
   "execution_count": 25,
   "metadata": {
    "collapsed": false
   },
   "outputs": [
    {
     "name": "stdout",
     "output_type": "stream",
     "text": [
      "sys.version_info(major=3, minor=6, micro=0, releaselevel='final', serial=0)\n"
     ]
    }
   ],
   "source": [
    "# Name: Gonul AYCI\n",
    "# Date: Bogazici University, Mar. 2017\n",
    "# Description: https://projecteuler.net/archives\n",
    "\n",
    "import sys\n",
    "print(sys.version_info)"
   ]
  },
  {
   "cell_type": "code",
   "execution_count": 24,
   "metadata": {
    "collapsed": false
   },
   "outputs": [
    {
     "data": {
      "text/plain": [
       "233168"
      ]
     },
     "execution_count": 24,
     "metadata": {},
     "output_type": "execute_result"
    }
   ],
   "source": [
    "#1. Multiples of 3 and 5\n",
    "\n",
    "sum(i for i in range(1000) if i % 3 == 0 or i % 5 == 0)\n",
    "#sum(set(list(range(0, 1000, 3)) + list(range(0, 1000, 5))))"
   ]
  },
  {
   "cell_type": "code",
   "execution_count": 1,
   "metadata": {
    "collapsed": false,
    "deletable": true,
    "editable": true
   },
   "outputs": [
    {
     "data": {
      "text/plain": [
       "4613732"
      ]
     },
     "execution_count": 1,
     "metadata": {},
     "output_type": "execute_result"
    }
   ],
   "source": [
    "#2. Even Fibonacci numbers\n",
    "\n",
    "def fibEvenSum(param):\n",
    "    f1, f2 = 0, 1\n",
    "    sum = 0\n",
    "    max = 4000000\n",
    "\n",
    "    while f2 < max:\n",
    "        if f2%2 == 0:\n",
    "            sum += f2\n",
    "        f1, f2 = f2, f1 + f2\n",
    "    return sum\n",
    "\n",
    "fibEvenSum(max)"
   ]
  },
  {
   "cell_type": "code",
   "execution_count": 1,
   "metadata": {
    "collapsed": false,
    "deletable": true,
    "editable": true
   },
   "outputs": [
    {
     "data": {
      "text/plain": [
       "6857"
      ]
     },
     "execution_count": 1,
     "metadata": {},
     "output_type": "execute_result"
    }
   ],
   "source": [
    "#3. Largest prime factor\n",
    "\n",
    "def largest_prime_factor(n):\n",
    "    i = 2\n",
    "    while i * i <= n:\n",
    "        if n % i:\n",
    "            i += 1\n",
    "        else:\n",
    "            n //= i\n",
    "    return n\n",
    "\n",
    "largest_prime_factor(600851475143)"
   ]
  },
  {
   "cell_type": "code",
   "execution_count": 2,
   "metadata": {
    "collapsed": false,
    "deletable": true,
    "editable": true
   },
   "outputs": [
    {
     "name": "stdout",
     "output_type": "stream",
     "text": [
      "906609\n"
     ]
    }
   ],
   "source": [
    "#4. Largest palindrome product\n",
    "# source code: http://www.w3resource.com/euler-project/euler-problem4.php\n",
    "\n",
    "n = 0  \n",
    "for a in range(999, 100, -1):  \n",
    "    for b in range(a, 100, -1):  \n",
    "        x = a * b  \n",
    "        if x > n:  \n",
    "            s = str(a * b)  \n",
    "            if s == s[::-1]:  \n",
    "                n = a * b  \n",
    "print(n)"
   ]
  },
  {
   "cell_type": "code",
   "execution_count": 9,
   "metadata": {
    "collapsed": false,
    "deletable": true,
    "editable": true
   },
   "outputs": [
    {
     "name": "stdout",
     "output_type": "stream",
     "text": [
      "232792560\n"
     ]
    }
   ],
   "source": [
    "#5. Smallest multiple\n",
    "\n",
    "from fractions import gcd\n",
    "\n",
    "def lcm(x,y): \n",
    "    return x * y / gcd(x,y)  \n",
    "  \n",
    "n = 1   \n",
    "for i in range(1, 21):  \n",
    "     n = lcm(n, i)  \n",
    "print(n) "
   ]
  },
  {
   "cell_type": "code",
   "execution_count": 18,
   "metadata": {
    "collapsed": false,
    "deletable": true,
    "editable": true
   },
   "outputs": [
    {
     "name": "stdout",
     "output_type": "stream",
     "text": [
      "25164150\n"
     ]
    }
   ],
   "source": [
    "#6. Sum square difference\n",
    "\n",
    "sum1, sum2 = 0, 0\n",
    "for i in range(101):\n",
    "    sum1 += i\n",
    "    sum2 += i**2\n",
    "\n",
    "print(sum1**2 - sum2)"
   ]
  },
  {
   "cell_type": "code",
   "execution_count": 27,
   "metadata": {
    "collapsed": false,
    "deletable": true,
    "editable": true
   },
   "outputs": [
    {
     "name": "stdout",
     "output_type": "stream",
     "text": [
      "104743\n"
     ]
    }
   ],
   "source": [
    "#7. 10001st prime\n",
    "# source code: http://cs.miky.ca/python/project_euler/problem_7\n",
    "\n",
    "# returns True if parameter n is a prime number, False if composite and \"Neither prime, nor composite\" if neither\n",
    "def isPrime(n):\n",
    "    if n < 2: \n",
    "        return \"Neither prime, nor composite\"\n",
    "    for i in range(2, int(n**0.5) + 1):\n",
    "        if n % i == 0:\n",
    "            return False\n",
    "    return True\n",
    "\n",
    "# returns the nth prime number\n",
    "def nthPrime(n):\n",
    "    numberOfPrimes = 0\n",
    "    prime = 1\n",
    "\n",
    "    while numberOfPrimes < n:\n",
    "        prime += 1\n",
    "        if isPrime(prime):\n",
    "            numberOfPrimes += 1\n",
    "    return prime\n",
    "\n",
    "print(nthPrime(10001))"
   ]
  },
  {
   "cell_type": "code",
   "execution_count": 14,
   "metadata": {
    "collapsed": false,
    "deletable": true,
    "editable": true
   },
   "outputs": [
    {
     "name": "stdout",
     "output_type": "stream",
     "text": [
      "23514624000\n"
     ]
    }
   ],
   "source": [
    "#8. Largest product in a series\n",
    "\n",
    "number = str(7316717653133062491922511967442657474235534919493496983520312774506326239578318016984801869478851843858615607891129494954595017379583319528532088055111254069874715852386305071569329096329522744304355766896648950445244523161731856403098711121722383113622298934233803081353362766142828064444866452387493035890729629049156044077239071381051585930796086670172427121883998797908792274921901699720888093776657273330010533678812202354218097512545405947522435258490771167055601360483958644670632441572215539753697817977846174064955149290862569321978468622482839722413756570560574902614079729686524145351004748216637048440319989000889524345065854122758866688116427171479924442928230863465674813919123162824586178664583591245665294765456828489128831426076900422421902267105562632111110937054421750694165896040807198403850962455444362981230987879927244284909188845801561660979191338754992005240636899125607176060588611646710940507754100225698315520005593572972571636269561882670428252483600823257530420752963450)\n",
    "\n",
    "largestProduct = 0\n",
    "adjDigit = 13\n",
    "for i in range(0, len(number) - adjDigit):\n",
    "    product = 1\n",
    "    for j in range(i, i + adjDigit):\n",
    "        product *= int(number[j: j + 1])\n",
    "\n",
    "    if product > largestProduct:\n",
    "        largestProduct = product\n",
    "\n",
    "print (largestProduct)"
   ]
  },
  {
   "cell_type": "code",
   "execution_count": 15,
   "metadata": {
    "collapsed": false,
    "deletable": true,
    "editable": true
   },
   "outputs": [
    {
     "name": "stdout",
     "output_type": "stream",
     "text": [
      "result: 31875000 a: 200 b: 375 c: 425.0\n"
     ]
    }
   ],
   "source": [
    "#9. Special Pythagorean triplet\n",
    "\n",
    "import math\n",
    "N = 1000\n",
    "\n",
    "for a in range(1, N):\n",
    "    for b in range(a + 1, N-1):\n",
    "        c = math.sqrt(a**2 + b**2)\n",
    "        \n",
    "        if a + b + c == N:\n",
    "            result = int(a*b*c)\n",
    "            print(\"result:\", result, \"a:\",  a, \"b:\", b, \"c:\", c)"
   ]
  },
  {
   "cell_type": "code",
   "execution_count": 37,
   "metadata": {
    "collapsed": false,
    "deletable": true,
    "editable": true
   },
   "outputs": [
    {
     "data": {
      "text/plain": [
       "142913828922"
      ]
     },
     "execution_count": 37,
     "metadata": {},
     "output_type": "execute_result"
    }
   ],
   "source": [
    "#10. Summation of primes\n",
    "# source code: http://codereview.stackexchange.com/questions/37550/summation-of-primes-takes-forever\n",
    "\n",
    "def sum_primes(number):\n",
    "    primes = []\n",
    "    for n in range(2, number+1):\n",
    "        if number < 2: \n",
    "            return \"Neither prime, nor composite\"\n",
    "        for p in primes:\n",
    "            if n % p == 0: break     # if p divides n, stop the search\n",
    "            if n < p*p:\n",
    "               primes.append(n)      # if p > sqrt(n), mark n as prime and stop search\n",
    "               break\n",
    "        else: primes.append(n)       # fallback: we actually only get here for n == 2\n",
    "    return sum(primes)\n",
    "\n",
    "sum_primes(2000000)"
   ]
  },
  {
   "cell_type": "code",
   "execution_count": 27,
   "metadata": {
    "collapsed": false
   },
   "outputs": [
    {
     "name": "stdout",
     "output_type": "stream",
     "text": [
      "70600674\n"
     ]
    }
   ],
   "source": [
    "#11. Largest product in a grid\n",
    "# source code: https://github.com/DestructHub/ProjectEuler/blob/master/Problem011/Python/solution_1.py\n",
    "\n",
    "from functools import reduce\n",
    "\n",
    "grid = \"\"\"08 02 22 97 38 15 00 40 00 75 04 05 07 78 52 12 50 77 91 08\n",
    "49 49 99 40 17 81 18 57 60 87 17 40 98 43 69 48 04 56 62 00\n",
    "81 49 31 73 55 79 14 29 93 71 40 67 53 88 30 03 49 13 36 65\n",
    "52 70 95 23 04 60 11 42 69 24 68 56 01 32 56 71 37 02 36 91\n",
    "22 31 16 71 51 67 63 89 41 92 36 54 22 40 40 28 66 33 13 80\n",
    "24 47 32 60 99 03 45 02 44 75 33 53 78 36 84 20 35 17 12 50\n",
    "32 98 81 28 64 23 67 10 26 38 40 67 59 54 70 66 18 38 64 70\n",
    "67 26 20 68 02 62 12 20 95 63 94 39 63 08 40 91 66 49 94 21\n",
    "24 55 58 05 66 73 99 26 97 17 78 78 96 83 14 88 34 89 63 72\n",
    "21 36 23 09 75 00 76 44 20 45 35 14 00 61 33 97 34 31 33 95\n",
    "78 17 53 28 22 75 31 67 15 94 03 80 04 62 16 14 09 53 56 92\n",
    "16 39 05 42 96 35 31 47 55 58 88 24 00 17 54 24 36 29 85 57\n",
    "86 56 00 48 35 71 89 07 05 44 44 37 44 60 21 58 51 54 17 58\n",
    "19 80 81 68 05 94 47 69 28 73 92 13 86 52 17 77 04 89 55 40\n",
    "04 52 08 83 97 35 99 16 07 97 57 32 16 26 26 79 33 27 98 66\n",
    "88 36 68 87 57 62 20 72 03 46 33 67 46 55 12 32 63 93 53 69\n",
    "04 42 16 73 38 25 39 11 24 94 72 18 08 46 29 32 40 62 76 36\n",
    "20 69 36 41 72 30 23 88 34 62 99 69 82 67 59 85 74 04 36 16\n",
    "20 73 35 29 78 31 90 01 74 31 49 71 48 86 81 16 23 57 05 54\n",
    "01 70 54 71 83 51 54 69 16 92 33 48 61 43 52 01 89 19 67 48\"\"\"\n",
    "\n",
    "def arrowsSearch(matrix, n):\n",
    "    x_len, y_len = len(matrix[0]), len(matrix)\n",
    "    points = []\n",
    "    for y in range(x_len):\n",
    "        for x in range(y_len):\n",
    "            # arrows in diagonals:\n",
    "            # (down-up - left-right)\n",
    "            if abs(x - x_len) >= n and abs(y - y_len) >= n:\n",
    "                points.append([(x + d, y + d) for d in range(0, n)])\n",
    "            # (up-down - left-right)\n",
    "            # y > x because i want just the left-right diagonals\n",
    "            if abs((x - y) - (x_len - y_len)) + 1 >= n and y > x:\n",
    "                points.append([(d, y - (d - x)) for d in range(x, x + n)])\n",
    "            # arrows in vertical and horizontal:\n",
    "            # left-right\n",
    "            if abs(x - x_len) >= n:\n",
    "                points.append([(new_x, y) for new_x in range(x, x + n)])\n",
    "            # down-up\n",
    "            if abs(y - y_len) >= n:\n",
    "                points.append([(x, new_y) for new_y in range(y, y + n)])\n",
    "    return points\n",
    "\n",
    "def solution(grid, arrow_length):\n",
    "    #split matrix into rows using map built-in function of python\n",
    "    grid = [x for x in map(lambda line: [int(num) for num in line],\n",
    "            [y.split() for y in [x for x in grid.split('\\n')]])]\n",
    "    arrows = arrowsSearch(grid, arrow_length)\n",
    "    answer = max(map(lambda arrow:\n",
    "        reduce(lambda a, b: a * b, [grid[y][x] for x, y in arrow]), arrows))\n",
    "    return answer\n",
    "\n",
    "print(solution(grid, 4))"
   ]
  },
  {
   "cell_type": "code",
   "execution_count": 109,
   "metadata": {
    "collapsed": false
   },
   "outputs": [
    {
     "name": "stdout",
     "output_type": "stream",
     "text": [
      "76576500\n"
     ]
    }
   ],
   "source": [
    "#12. Highly divisible triangular number\n",
    "\n",
    "def yieldTriangle():\n",
    "    counter = 2\n",
    "    num = 1\n",
    "    while True:\n",
    "        yield num\n",
    "        num = num + counter\n",
    "        counter = counter + 1\n",
    "\n",
    "def yieldFactor():      \n",
    "    triGenerator = yieldTriangle()\n",
    "\n",
    "    while True:\n",
    "        n = next(triGenerator)\n",
    "        yield set(reduce(list.__add__, \n",
    "                    ([i, n//i] for i in range(1, int(n**0.5) + 1) if n % i == 0)))\n",
    "\n",
    "factorGenerator = yieldFactor()\n",
    "\n",
    "counter = 0\n",
    "limit = 500\n",
    "while True:\n",
    "    counter += 1\n",
    "    if len(next(factorGenerator)) > limit:\n",
    "        print(counter*(counter+1)//2)\n",
    "        break\n",
    "    num = num + 1"
   ]
  },
  {
   "cell_type": "code",
   "execution_count": null,
   "metadata": {
    "collapsed": true
   },
   "outputs": [],
   "source": []
  }
 ],
 "metadata": {
  "kernelspec": {
   "display_name": "Python 3",
   "language": "python",
   "name": "python3"
  },
  "language_info": {
   "codemirror_mode": {
    "name": "ipython",
    "version": 3
   },
   "file_extension": ".py",
   "mimetype": "text/x-python",
   "name": "python",
   "nbconvert_exporter": "python",
   "pygments_lexer": "ipython3",
   "version": "3.6.0"
  }
 },
 "nbformat": 4,
 "nbformat_minor": 2
}
