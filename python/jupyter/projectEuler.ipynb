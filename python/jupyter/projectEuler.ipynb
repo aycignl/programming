{
 "cells": [
  {
   "cell_type": "code",
   "execution_count": 25,
   "metadata": {
    "collapsed": false,
    "deletable": true,
    "editable": true
   },
   "outputs": [
    {
     "name": "stdout",
     "output_type": "stream",
     "text": [
      "sys.version_info(major=3, minor=6, micro=0, releaselevel='final', serial=0)\n"
     ]
    }
   ],
   "source": [
    "# Name: Gonul AYCI\n",
    "# Date: Bogazici University, Mar. 2017\n",
    "# Description: https://projecteuler.net/archives\n",
    "\n",
    "import sys\n",
    "print(sys.version_info)"
   ]
  },
  {
   "cell_type": "code",
   "execution_count": 24,
   "metadata": {
    "collapsed": false,
    "deletable": true,
    "editable": true
   },
   "outputs": [
    {
     "data": {
      "text/plain": [
       "233168"
      ]
     },
     "execution_count": 24,
     "metadata": {},
     "output_type": "execute_result"
    }
   ],
   "source": [
    "#1. Multiples of 3 and 5\n",
    "\n",
    "sum(i for i in range(1000) if i % 3 == 0 or i % 5 == 0)\n",
    "#sum(set(list(range(0, 1000, 3)) + list(range(0, 1000, 5))))"
   ]
  },
  {
   "cell_type": "code",
   "execution_count": 1,
   "metadata": {
    "collapsed": false,
    "deletable": true,
    "editable": true
   },
   "outputs": [
    {
     "data": {
      "text/plain": [
       "4613732"
      ]
     },
     "execution_count": 1,
     "metadata": {},
     "output_type": "execute_result"
    }
   ],
   "source": [
    "#2. Even Fibonacci numbers\n",
    "\n",
    "def fibEvenSum(param):\n",
    "    f1, f2 = 0, 1\n",
    "    sum = 0\n",
    "    max = 4000000\n",
    "\n",
    "    while f2 < max:\n",
    "        if f2%2 == 0:\n",
    "            sum += f2\n",
    "        f1, f2 = f2, f1 + f2\n",
    "    return sum\n",
    "\n",
    "fibEvenSum(max)"
   ]
  },
  {
   "cell_type": "code",
   "execution_count": 1,
   "metadata": {
    "collapsed": false,
    "deletable": true,
    "editable": true
   },
   "outputs": [
    {
     "data": {
      "text/plain": [
       "6857"
      ]
     },
     "execution_count": 1,
     "metadata": {},
     "output_type": "execute_result"
    }
   ],
   "source": [
    "#3. Largest prime factor\n",
    "\n",
    "def largest_prime_factor(n):\n",
    "    i = 2\n",
    "    while i * i <= n:\n",
    "        if n % i:\n",
    "            i += 1\n",
    "        else:\n",
    "            n //= i\n",
    "    return n\n",
    "\n",
    "largest_prime_factor(600851475143)"
   ]
  },
  {
   "cell_type": "code",
   "execution_count": 2,
   "metadata": {
    "collapsed": false,
    "deletable": true,
    "editable": true
   },
   "outputs": [
    {
     "name": "stdout",
     "output_type": "stream",
     "text": [
      "906609\n"
     ]
    }
   ],
   "source": [
    "#4. Largest palindrome product\n",
    "# source code: http://www.w3resource.com/euler-project/euler-problem4.php\n",
    "\n",
    "n = 0  \n",
    "for a in range(999, 100, -1):  \n",
    "    for b in range(a, 100, -1):  \n",
    "        x = a * b  \n",
    "        if x > n:  \n",
    "            s = str(a * b)  \n",
    "            if s == s[::-1]:  \n",
    "                n = a * b  \n",
    "print(n)"
   ]
  },
  {
   "cell_type": "code",
   "execution_count": 9,
   "metadata": {
    "collapsed": false,
    "deletable": true,
    "editable": true
   },
   "outputs": [
    {
     "name": "stdout",
     "output_type": "stream",
     "text": [
      "232792560\n"
     ]
    }
   ],
   "source": [
    "#5. Smallest multiple\n",
    "\n",
    "from fractions import gcd\n",
    "\n",
    "def lcm(x,y): \n",
    "    return x * y / gcd(x,y)  \n",
    "  \n",
    "n = 1   \n",
    "for i in range(1, 21):  \n",
    "     n = lcm(n, i)  \n",
    "print(n) "
   ]
  },
  {
   "cell_type": "code",
   "execution_count": 18,
   "metadata": {
    "collapsed": false,
    "deletable": true,
    "editable": true
   },
   "outputs": [
    {
     "name": "stdout",
     "output_type": "stream",
     "text": [
      "25164150\n"
     ]
    }
   ],
   "source": [
    "#6. Sum square difference\n",
    "\n",
    "sum1, sum2 = 0, 0\n",
    "for i in range(101):\n",
    "    sum1 += i\n",
    "    sum2 += i**2\n",
    "\n",
    "print(sum1**2 - sum2)"
   ]
  },
  {
   "cell_type": "code",
   "execution_count": 27,
   "metadata": {
    "collapsed": false,
    "deletable": true,
    "editable": true
   },
   "outputs": [
    {
     "name": "stdout",
     "output_type": "stream",
     "text": [
      "104743\n"
     ]
    }
   ],
   "source": [
    "#7. 10001st prime\n",
    "# source code: http://cs.miky.ca/python/project_euler/problem_7\n",
    "\n",
    "# returns True if parameter n is a prime number, False if composite and \"Neither prime, nor composite\" if neither\n",
    "def isPrime(n):\n",
    "    if n < 2: \n",
    "        return \"Neither prime, nor composite\"\n",
    "    for i in range(2, int(n**0.5) + 1):\n",
    "        if n % i == 0:\n",
    "            return False\n",
    "    return True\n",
    "\n",
    "# returns the nth prime number\n",
    "def nthPrime(n):\n",
    "    numberOfPrimes = 0\n",
    "    prime = 1\n",
    "\n",
    "    while numberOfPrimes < n:\n",
    "        prime += 1\n",
    "        if isPrime(prime):\n",
    "            numberOfPrimes += 1\n",
    "    return prime\n",
    "\n",
    "print(nthPrime(10001))"
   ]
  },
  {
   "cell_type": "code",
   "execution_count": 14,
   "metadata": {
    "collapsed": false,
    "deletable": true,
    "editable": true
   },
   "outputs": [
    {
     "name": "stdout",
     "output_type": "stream",
     "text": [
      "23514624000\n"
     ]
    }
   ],
   "source": [
    "#8. Largest product in a series\n",
    "\n",
    "number = str(7316717653133062491922511967442657474235534919493496983520312774506326239578318016984801869478851843858615607891129494954595017379583319528532088055111254069874715852386305071569329096329522744304355766896648950445244523161731856403098711121722383113622298934233803081353362766142828064444866452387493035890729629049156044077239071381051585930796086670172427121883998797908792274921901699720888093776657273330010533678812202354218097512545405947522435258490771167055601360483958644670632441572215539753697817977846174064955149290862569321978468622482839722413756570560574902614079729686524145351004748216637048440319989000889524345065854122758866688116427171479924442928230863465674813919123162824586178664583591245665294765456828489128831426076900422421902267105562632111110937054421750694165896040807198403850962455444362981230987879927244284909188845801561660979191338754992005240636899125607176060588611646710940507754100225698315520005593572972571636269561882670428252483600823257530420752963450)\n",
    "\n",
    "largestProduct = 0\n",
    "adjDigit = 13\n",
    "for i in range(0, len(number) - adjDigit):\n",
    "    product = 1\n",
    "    for j in range(i, i + adjDigit):\n",
    "        product *= int(number[j: j + 1])\n",
    "\n",
    "    if product > largestProduct:\n",
    "        largestProduct = product\n",
    "\n",
    "print (largestProduct)"
   ]
  },
  {
   "cell_type": "code",
   "execution_count": 15,
   "metadata": {
    "collapsed": false,
    "deletable": true,
    "editable": true
   },
   "outputs": [
    {
     "name": "stdout",
     "output_type": "stream",
     "text": [
      "result: 31875000 a: 200 b: 375 c: 425.0\n"
     ]
    }
   ],
   "source": [
    "#9. Special Pythagorean triplet\n",
    "\n",
    "import math\n",
    "N = 1000\n",
    "\n",
    "for a in range(1, N):\n",
    "    for b in range(a + 1, N-1):\n",
    "        c = math.sqrt(a**2 + b**2)\n",
    "        \n",
    "        if a + b + c == N:\n",
    "            result = int(a*b*c)\n",
    "            print(\"result:\", result, \"a:\",  a, \"b:\", b, \"c:\", c)"
   ]
  },
  {
   "cell_type": "code",
   "execution_count": 37,
   "metadata": {
    "collapsed": false,
    "deletable": true,
    "editable": true
   },
   "outputs": [
    {
     "data": {
      "text/plain": [
       "142913828922"
      ]
     },
     "execution_count": 37,
     "metadata": {},
     "output_type": "execute_result"
    }
   ],
   "source": [
    "#10. Summation of primes\n",
    "# source code: http://codereview.stackexchange.com/questions/37550/summation-of-primes-takes-forever\n",
    "\n",
    "def sum_primes(number):\n",
    "    primes = []\n",
    "    for n in range(2, number+1):\n",
    "        if number < 2: \n",
    "            return \"Neither prime, nor composite\"\n",
    "        for p in primes:\n",
    "            if n % p == 0: break     # if p divides n, stop the search\n",
    "            if n < p*p:\n",
    "               primes.append(n)      # if p > sqrt(n), mark n as prime and stop search\n",
    "               break\n",
    "        else: primes.append(n)       # fallback: we actually only get here for n == 2\n",
    "    return sum(primes)\n",
    "\n",
    "sum_primes(2000000)"
   ]
  },
  {
   "cell_type": "code",
   "execution_count": 27,
   "metadata": {
    "collapsed": false,
    "deletable": true,
    "editable": true
   },
   "outputs": [
    {
     "name": "stdout",
     "output_type": "stream",
     "text": [
      "70600674\n"
     ]
    }
   ],
   "source": [
    "#11. Largest product in a grid\n",
    "# source code: https://github.com/DestructHub/ProjectEuler/blob/master/Problem011/Python/solution_1.py\n",
    "\n",
    "from functools import reduce\n",
    "\n",
    "grid = \"\"\"08 02 22 97 38 15 00 40 00 75 04 05 07 78 52 12 50 77 91 08\n",
    "49 49 99 40 17 81 18 57 60 87 17 40 98 43 69 48 04 56 62 00\n",
    "81 49 31 73 55 79 14 29 93 71 40 67 53 88 30 03 49 13 36 65\n",
    "52 70 95 23 04 60 11 42 69 24 68 56 01 32 56 71 37 02 36 91\n",
    "22 31 16 71 51 67 63 89 41 92 36 54 22 40 40 28 66 33 13 80\n",
    "24 47 32 60 99 03 45 02 44 75 33 53 78 36 84 20 35 17 12 50\n",
    "32 98 81 28 64 23 67 10 26 38 40 67 59 54 70 66 18 38 64 70\n",
    "67 26 20 68 02 62 12 20 95 63 94 39 63 08 40 91 66 49 94 21\n",
    "24 55 58 05 66 73 99 26 97 17 78 78 96 83 14 88 34 89 63 72\n",
    "21 36 23 09 75 00 76 44 20 45 35 14 00 61 33 97 34 31 33 95\n",
    "78 17 53 28 22 75 31 67 15 94 03 80 04 62 16 14 09 53 56 92\n",
    "16 39 05 42 96 35 31 47 55 58 88 24 00 17 54 24 36 29 85 57\n",
    "86 56 00 48 35 71 89 07 05 44 44 37 44 60 21 58 51 54 17 58\n",
    "19 80 81 68 05 94 47 69 28 73 92 13 86 52 17 77 04 89 55 40\n",
    "04 52 08 83 97 35 99 16 07 97 57 32 16 26 26 79 33 27 98 66\n",
    "88 36 68 87 57 62 20 72 03 46 33 67 46 55 12 32 63 93 53 69\n",
    "04 42 16 73 38 25 39 11 24 94 72 18 08 46 29 32 40 62 76 36\n",
    "20 69 36 41 72 30 23 88 34 62 99 69 82 67 59 85 74 04 36 16\n",
    "20 73 35 29 78 31 90 01 74 31 49 71 48 86 81 16 23 57 05 54\n",
    "01 70 54 71 83 51 54 69 16 92 33 48 61 43 52 01 89 19 67 48\"\"\"\n",
    "\n",
    "def arrowsSearch(matrix, n):\n",
    "    x_len, y_len = len(matrix[0]), len(matrix)\n",
    "    points = []\n",
    "    for y in range(x_len):\n",
    "        for x in range(y_len):\n",
    "            # arrows in diagonals:\n",
    "            # (down-up - left-right)\n",
    "            if abs(x - x_len) >= n and abs(y - y_len) >= n:\n",
    "                points.append([(x + d, y + d) for d in range(0, n)])\n",
    "            # (up-down - left-right)\n",
    "            # y > x because i want just the left-right diagonals\n",
    "            if abs((x - y) - (x_len - y_len)) + 1 >= n and y > x:\n",
    "                points.append([(d, y - (d - x)) for d in range(x, x + n)])\n",
    "            # arrows in vertical and horizontal:\n",
    "            # left-right\n",
    "            if abs(x - x_len) >= n:\n",
    "                points.append([(new_x, y) for new_x in range(x, x + n)])\n",
    "            # down-up\n",
    "            if abs(y - y_len) >= n:\n",
    "                points.append([(x, new_y) for new_y in range(y, y + n)])\n",
    "    return points\n",
    "\n",
    "def solution(grid, arrow_length):\n",
    "    #split matrix into rows using map built-in function of python\n",
    "    grid = [x for x in map(lambda line: [int(num) for num in line],\n",
    "            [y.split() for y in [x for x in grid.split('\\n')]])]\n",
    "    arrows = arrowsSearch(grid, arrow_length)\n",
    "    answer = max(map(lambda arrow:\n",
    "        reduce(lambda a, b: a * b, [grid[y][x] for x, y in arrow]), arrows))\n",
    "    return answer\n",
    "\n",
    "print(solution(grid, 4))"
   ]
  },
  {
   "cell_type": "code",
   "execution_count": 109,
   "metadata": {
    "collapsed": false,
    "deletable": true,
    "editable": true
   },
   "outputs": [
    {
     "name": "stdout",
     "output_type": "stream",
     "text": [
      "76576500\n"
     ]
    }
   ],
   "source": [
    "#12. Highly divisible triangular number\n",
    "\n",
    "def yieldTriangle():\n",
    "    counter = 2\n",
    "    num = 1\n",
    "    while True:\n",
    "        yield num\n",
    "        num = num + counter\n",
    "        counter = counter + 1\n",
    "\n",
    "def yieldFactor():      \n",
    "    triGenerator = yieldTriangle()\n",
    "\n",
    "    while True:\n",
    "        n = next(triGenerator)\n",
    "        yield set(reduce(list.__add__, \n",
    "                    ([i, n//i] for i in range(1, int(n**0.5) + 1) if n % i == 0)))\n",
    "\n",
    "factorGenerator = yieldFactor()\n",
    "\n",
    "counter = 0\n",
    "limit = 500\n",
    "while True:\n",
    "    counter += 1\n",
    "    if len(next(factorGenerator)) > limit:\n",
    "        print(counter*(counter+1)//2)\n",
    "        break\n",
    "    num = num + 1"
   ]
  },
  {
   "cell_type": "code",
   "execution_count": 121,
   "metadata": {
    "collapsed": false,
    "deletable": true,
    "editable": true
   },
   "outputs": [
    {
     "name": "stdout",
     "output_type": "stream",
     "text": [
      "5537376230\n"
     ]
    }
   ],
   "source": [
    "#13. Large sum\n",
    "\n",
    "numbers = '''37107287533902102798797998220837590246510135740250\n",
    "46376937677490009712648124896970078050417018260538\n",
    "74324986199524741059474233309513058123726617309629\n",
    "91942213363574161572522430563301811072406154908250\n",
    "23067588207539346171171980310421047513778063246676\n",
    "89261670696623633820136378418383684178734361726757\n",
    "28112879812849979408065481931592621691275889832738\n",
    "44274228917432520321923589422876796487670272189318\n",
    "47451445736001306439091167216856844588711603153276\n",
    "70386486105843025439939619828917593665686757934951\n",
    "62176457141856560629502157223196586755079324193331\n",
    "64906352462741904929101432445813822663347944758178\n",
    "92575867718337217661963751590579239728245598838407\n",
    "58203565325359399008402633568948830189458628227828\n",
    "80181199384826282014278194139940567587151170094390\n",
    "35398664372827112653829987240784473053190104293586\n",
    "86515506006295864861532075273371959191420517255829\n",
    "71693888707715466499115593487603532921714970056938\n",
    "54370070576826684624621495650076471787294438377604\n",
    "53282654108756828443191190634694037855217779295145\n",
    "36123272525000296071075082563815656710885258350721\n",
    "45876576172410976447339110607218265236877223636045\n",
    "17423706905851860660448207621209813287860733969412\n",
    "81142660418086830619328460811191061556940512689692\n",
    "51934325451728388641918047049293215058642563049483\n",
    "62467221648435076201727918039944693004732956340691\n",
    "15732444386908125794514089057706229429197107928209\n",
    "55037687525678773091862540744969844508330393682126\n",
    "18336384825330154686196124348767681297534375946515\n",
    "80386287592878490201521685554828717201219257766954\n",
    "78182833757993103614740356856449095527097864797581\n",
    "16726320100436897842553539920931837441497806860984\n",
    "48403098129077791799088218795327364475675590848030\n",
    "87086987551392711854517078544161852424320693150332\n",
    "59959406895756536782107074926966537676326235447210\n",
    "69793950679652694742597709739166693763042633987085\n",
    "41052684708299085211399427365734116182760315001271\n",
    "65378607361501080857009149939512557028198746004375\n",
    "35829035317434717326932123578154982629742552737307\n",
    "94953759765105305946966067683156574377167401875275\n",
    "88902802571733229619176668713819931811048770190271\n",
    "25267680276078003013678680992525463401061632866526\n",
    "36270218540497705585629946580636237993140746255962\n",
    "24074486908231174977792365466257246923322810917141\n",
    "91430288197103288597806669760892938638285025333403\n",
    "34413065578016127815921815005561868836468420090470\n",
    "23053081172816430487623791969842487255036638784583\n",
    "11487696932154902810424020138335124462181441773470\n",
    "63783299490636259666498587618221225225512486764533\n",
    "67720186971698544312419572409913959008952310058822\n",
    "95548255300263520781532296796249481641953868218774\n",
    "76085327132285723110424803456124867697064507995236\n",
    "37774242535411291684276865538926205024910326572967\n",
    "23701913275725675285653248258265463092207058596522\n",
    "29798860272258331913126375147341994889534765745501\n",
    "18495701454879288984856827726077713721403798879715\n",
    "38298203783031473527721580348144513491373226651381\n",
    "34829543829199918180278916522431027392251122869539\n",
    "40957953066405232632538044100059654939159879593635\n",
    "29746152185502371307642255121183693803580388584903\n",
    "41698116222072977186158236678424689157993532961922\n",
    "62467957194401269043877107275048102390895523597457\n",
    "23189706772547915061505504953922979530901129967519\n",
    "86188088225875314529584099251203829009407770775672\n",
    "11306739708304724483816533873502340845647058077308\n",
    "82959174767140363198008187129011875491310547126581\n",
    "97623331044818386269515456334926366572897563400500\n",
    "42846280183517070527831839425882145521227251250327\n",
    "55121603546981200581762165212827652751691296897789\n",
    "32238195734329339946437501907836945765883352399886\n",
    "75506164965184775180738168837861091527357929701337\n",
    "62177842752192623401942399639168044983993173312731\n",
    "32924185707147349566916674687634660915035914677504\n",
    "99518671430235219628894890102423325116913619626622\n",
    "73267460800591547471830798392868535206946944540724\n",
    "76841822524674417161514036427982273348055556214818\n",
    "97142617910342598647204516893989422179826088076852\n",
    "87783646182799346313767754307809363333018982642090\n",
    "10848802521674670883215120185883543223812876952786\n",
    "71329612474782464538636993009049310363619763878039\n",
    "62184073572399794223406235393808339651327408011116\n",
    "66627891981488087797941876876144230030984490851411\n",
    "60661826293682836764744779239180335110989069790714\n",
    "85786944089552990653640447425576083659976645795096\n",
    "66024396409905389607120198219976047599490197230297\n",
    "64913982680032973156037120041377903785566085089252\n",
    "16730939319872750275468906903707539413042652315011\n",
    "94809377245048795150954100921645863754710598436791\n",
    "78639167021187492431995700641917969777599028300699\n",
    "15368713711936614952811305876380278410754449733078\n",
    "40789923115535562561142322423255033685442488917353\n",
    "44889911501440648020369068063960672322193204149535\n",
    "41503128880339536053299340368006977710650566631954\n",
    "81234880673210146739058568557934581403627822703280\n",
    "82616570773948327592232845941706525094512325230608\n",
    "22918802058777319719839450180888072429661980811197\n",
    "77158542502016545090413245809786882778948721859617\n",
    "72107838435069186155435662884062257473692284509516\n",
    "20849603980134001723930671666823555245252804609722\n",
    "53503534226472524250874054075591789781264330331690'''\n",
    "\n",
    "# print(numbers.split())\n",
    "# to split a given data line by line\n",
    "summa = sum([int(i) for i in [n for n in numbers.split()]])\n",
    "\n",
    "# print out the first 10 digits of the sum\n",
    "print(str(summa)[0:10])"
   ]
  },
  {
   "cell_type": "code",
   "execution_count": 24,
   "metadata": {
    "collapsed": false,
    "deletable": true,
    "editable": true
   },
   "outputs": [
    {
     "name": "stdout",
     "output_type": "stream",
     "text": [
      "837799\n"
     ]
    }
   ],
   "source": [
    "#14. Longest Collatz sequence\n",
    "\n",
    "def collatz_sequence(n):\n",
    "    noOfTerm = 1\n",
    "    while n > 1:\n",
    "        if n % 2 == 0:\n",
    "            n /= 2\n",
    "        else:\n",
    "            n = 3 * n + 1 \n",
    "        noOfTerm += 1\n",
    "        \n",
    "    return noOfTerm\n",
    "    \n",
    "def startingNumber():\n",
    "    longest = 0\n",
    "    for iteration in range(1, 10 ** 6):\n",
    "        s = collatz_sequence(iteration)\n",
    "        if s > longest:\n",
    "            longest = s\n",
    "            point = iteration\n",
    "        iteration += 1\n",
    "        \n",
    "    return point\n",
    "\n",
    "print(startingNumber())"
   ]
  },
  {
   "cell_type": "code",
   "execution_count": 32,
   "metadata": {
    "collapsed": false,
    "deletable": true,
    "editable": true
   },
   "outputs": [
    {
     "data": {
      "text/plain": [
       "137846528820"
      ]
     },
     "execution_count": 32,
     "metadata": {},
     "output_type": "execute_result"
    }
   ],
   "source": [
    "#15. Lattice paths\n",
    "\n",
    "import math\n",
    "\n",
    "def lattice_paths(n):\n",
    "    return math.factorial(2 * n)// (math.factorial(n) ** 2)\n",
    "    # // for integer value of the result\n",
    "\n",
    "lattice_paths(20)\n",
    "    "
   ]
  },
  {
   "cell_type": "code",
   "execution_count": 42,
   "metadata": {
    "collapsed": false,
    "deletable": true,
    "editable": true
   },
   "outputs": [
    {
     "data": {
      "text/plain": [
       "1366"
      ]
     },
     "execution_count": 42,
     "metadata": {},
     "output_type": "execute_result"
    }
   ],
   "source": [
    "#16. Power digit sum\n",
    "\n",
    "def digit_sum(n):\n",
    "    number = 2 ** n\n",
    "    summa = 0\n",
    "    for i in str(number):\n",
    "        summa += int(i)\n",
    "    \n",
    "    return summa\n",
    "\n",
    "digit_sum(1000)"
   ]
  },
  {
   "cell_type": "code",
   "execution_count": 31,
   "metadata": {
    "collapsed": false,
    "deletable": true,
    "editable": true
   },
   "outputs": [
    {
     "name": "stdout",
     "output_type": "stream",
     "text": [
      "21124\n"
     ]
    }
   ],
   "source": [
    "#17. Number letter counts\n",
    "# Thanks to: https://github.com/zmetcalf/Number-Letter-Counts/blob/master/Number-Letter-Counts.py\n",
    "# I modified and fixed his code.\n",
    "\n",
    "def oneThroughNine(number):\n",
    "    if((number == 1) | (number == 2) | (number == 6)):\n",
    "        return 3\n",
    "    elif((number == 4) | (number == 5) | (number == 9)):\n",
    "        return 4\n",
    "    elif((number == 3) | (number == 7) | (number == 8)):\n",
    "        return 5\n",
    "    else:\n",
    "        return 4 # 'zero' 4. Actually it is not necessary\n",
    "    \n",
    "def tens(number):\n",
    "    if(number == 10):\n",
    "        return 3\n",
    "    elif((number == 11) | (number == 12)):\n",
    "        return 6\n",
    "    elif((number == 15) | (number == 16)):\n",
    "        return 7\n",
    "    elif((number == 13) | (number == 14) | (number == 18) | (number == 19)):\n",
    "        return 8\n",
    "    elif((number == 17)):\n",
    "        return 9\n",
    "    \n",
    "def doubleDigit(number):\n",
    "    division = number // 10\n",
    "    left_part = 0\n",
    "    \n",
    "    if((division == 4) | (division == 5) | (division == 6)):\n",
    "        left_part = 5\n",
    "    elif((division == 2) | (division == 3) | (division == 8) | (division == 9)):\n",
    "        left_part = 6\n",
    "    elif(division == 7):\n",
    "        left_part = 7\n",
    "        \n",
    "    if (number % 10 != 0):\n",
    "        left_part += oneThroughNine((number - (division * 10)))\n",
    "    return left_part\n",
    "\n",
    "counter = 0\n",
    "total_letters = 0\n",
    "upper_bound = 1001\n",
    "\n",
    "for i in range(1, upper_bound):\n",
    "    counter = i\n",
    "    if(counter >= 100):\n",
    "        if(counter % 100 != 0): \n",
    "            total_letters += 3 # \"and\" = 3\n",
    "        total_letters += oneThroughNine(counter // 100) + 7 # \"hundred\" = 10\n",
    "        counter -= ((counter // 100) * 100)        \n",
    "        if(counter == 1000):\n",
    "            total_letters += 11 # \"one thousand\" = 11\n",
    "        \n",
    "    if(counter >= 20):\n",
    "        total_letters += doubleDigit(counter)\n",
    "    elif(counter >= 10 and counter < 20):\n",
    "        total_letters += tens(counter)\n",
    "    elif(counter < 10 and counter != 0):\n",
    "        total_letters += oneThroughNine(counter)\n",
    "\n",
    "\n",
    "print(total_letters)"
   ]
  }
 ],
 "metadata": {
  "kernelspec": {
   "display_name": "Python 3",
   "language": "python",
   "name": "python3"
  },
  "language_info": {
   "codemirror_mode": {
    "name": "ipython",
    "version": 3
   },
   "file_extension": ".py",
   "mimetype": "text/x-python",
   "name": "python",
   "nbconvert_exporter": "python",
   "pygments_lexer": "ipython3",
   "version": "3.6.0"
  }
 },
 "nbformat": 4,
 "nbformat_minor": 2
}
