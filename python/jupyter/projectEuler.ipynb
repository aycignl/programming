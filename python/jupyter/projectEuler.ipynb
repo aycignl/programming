{
 "cells": [
  {
   "cell_type": "code",
   "execution_count": 2,
   "metadata": {
    "collapsed": false
   },
   "outputs": [
    {
     "data": {
      "text/plain": [
       "233168"
      ]
     },
     "execution_count": 2,
     "metadata": {},
     "output_type": "execute_result"
    }
   ],
   "source": [
    "# Name: Gonul AYCI\n",
    "# Date: Bogazici University, Mar. 2017\n",
    "# Description: https://projecteuler.net/archives\n",
    "\n",
    "#1. Multiples of 3 and 5\n",
    "\n",
    "sum(i for i in range(1000) if i % 3 == 0 or i % 5 == 0)\n",
    "#sum(set(list(range(0, 1000, 3)) + list(range(0, 1000, 5))))"
   ]
  },
  {
   "cell_type": "code",
   "execution_count": 11,
   "metadata": {
    "collapsed": false
   },
   "outputs": [
    {
     "data": {
      "text/plain": [
       "4613732"
      ]
     },
     "execution_count": 11,
     "metadata": {},
     "output_type": "execute_result"
    }
   ],
   "source": [
    "#2. Even Fibonacci numbers\n",
    "\n",
    "def fibEvenSum(param):\n",
    "    f1, f2 = 0, 1\n",
    "    sum = 0\n",
    "    max = 4000000\n",
    "\n",
    "    while f2 < max:\n",
    "        if f2%2 == 0:\n",
    "            sum += f2\n",
    "        f1, f2 = f2, f1 + f2\n",
    "    return sum\n",
    "\n",
    "fibEvenSum(max)"
   ]
  },
  {
   "cell_type": "code",
   "execution_count": 1,
   "metadata": {
    "collapsed": false
   },
   "outputs": [
    {
     "data": {
      "text/plain": [
       "6857"
      ]
     },
     "execution_count": 1,
     "metadata": {},
     "output_type": "execute_result"
    }
   ],
   "source": [
    "#3. Largest prime factor\n",
    "\n",
    "def largest_prime_factor(n):\n",
    "    i = 2\n",
    "    while i * i <= n:\n",
    "        if n % i:\n",
    "            i += 1\n",
    "        else:\n",
    "            n //= i\n",
    "    return n\n",
    "\n",
    "largest_prime_factor(600851475143)"
   ]
  },
  {
   "cell_type": "code",
   "execution_count": 2,
   "metadata": {
    "collapsed": false
   },
   "outputs": [
    {
     "name": "stdout",
     "output_type": "stream",
     "text": [
      "906609\n"
     ]
    }
   ],
   "source": [
    "#4. Largest palindrome product\n",
    "#answer from http://www.w3resource.com/euler-project/euler-problem4.php\n",
    "\n",
    "n = 0  \n",
    "for a in range(999, 100, -1):  \n",
    "    for b in range(a, 100, -1):  \n",
    "        x = a * b  \n",
    "        if x > n:  \n",
    "            s = str(a * b)  \n",
    "            if s == s[::-1]:  \n",
    "                n = a * b  \n",
    "print(n)"
   ]
  },
  {
   "cell_type": "code",
   "execution_count": 7,
   "metadata": {
    "collapsed": false
   },
   "outputs": [
    {
     "name": "stdout",
     "output_type": "stream",
     "text": [
      "232792560\n"
     ]
    }
   ],
   "source": [
    "#5. Smallest multiple\n",
    "\n",
    "from fractions import gcd\n",
    "\n",
    "def lcm(x,y): \n",
    "    return x * y / gcd(x,y)  \n",
    "  \n",
    "n = 1  \n",
    "for i in range(1, 21):  \n",
    "     n = lcm(n, i)  \n",
    "print(n) "
   ]
  },
  {
   "cell_type": "code",
   "execution_count": null,
   "metadata": {
    "collapsed": true
   },
   "outputs": [],
   "source": []
  }
 ],
 "metadata": {
  "kernelspec": {
   "display_name": "Python 2",
   "language": "python",
   "name": "python2"
  },
  "language_info": {
   "codemirror_mode": {
    "name": "ipython",
    "version": 2
   },
   "file_extension": ".py",
   "mimetype": "text/x-python",
   "name": "python",
   "nbconvert_exporter": "python",
   "pygments_lexer": "ipython2",
   "version": "2.7.13"
  }
 },
 "nbformat": 4,
 "nbformat_minor": 2
}
